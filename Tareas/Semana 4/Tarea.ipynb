{
 "cells": [
  {
   "cell_type": "markdown",
   "metadata": {
    "id": "q7R3dARlFtDY"
   },
   "source": [
    "# Segundo análisis de casos – Fundamentos de Python\n",
    "\n",
    "## Objetivo:\n",
    "En esta tarea, practicaremos los fundamentos básicos de Python resolviendo **cuatro ejercicios** de la lista planteada. Cada solución debe detallar **entradas**, **procesos** y **salidas** para comprender mejor cómo funciona cada problema.\n",
    "\n",
    "### Formato para cada ejercicio (seleccionemos 4 ejercicios):\n",
    "#### Ejercicio X:\n",
    "- **Descripción del problema:** Incluiremos el enunciado del ejercicio.\n",
    "- **Entradas:** Detallaremos los datos que debemos ingresar.\n",
    "- **Proceso:** Explicaremos cómo resolveremos el problema (algoritmo o fórmula).\n",
    "- **Salidas:** Describiremos el resultado que veremos en pantalla al final del proceso.\n",
    "\n",
    "#### Código del ejercicio:\n",
    "- Escribiremos la solución del ejercicio en una celda de código Python.\n",
    "- Agregaremos comentarios para explicar el código y hacerlo más comprensible.\n",
    "\n",
    "### Conclusión:\n",
    "- Al final, resumiremos lo que hemos aprendido resolviendo los ejercicios.\n",
    "- Reflexionaremos sobre cómo Python nos ayuda a solucionar problemas cotidianos.\n",
    "\n",
    "## Formato de entrega del informe en PDF:\n",
    "\n",
    "Debemos exportar nuestro notebook de Jupyter a formato PDF, cumpliendo con las siguientes pautas:\n",
    "\n",
    "### Portada:\n",
    "- Título: \"Primer análisis de casos – Fundamentos de Python\".\n",
    "- Aylen Viquez Madrigal\n",
    "- 19 de febrero 2025.\n",
    "- fundamentos de python.\n",
    "\n",
    "### Cuerpo del informe:\n",
    "- **Introducción:** Explicaremos brevemente los ejercicios que hemos seleccionado.\n",
    "- **Desarrollo de cada ejercicio:**\n",
    "  - Descripción del problema.\n",
    "  - Entradas, procesos y salidas detallados.\n",
    "  - Capturas de pantalla del código y del resultado de la ejecución.\n",
    "\n",
    "### Conclusión:\n",
    "- Con los ejercicios selecionados he aprendido a que dependiendo de la informacion sumistrada o de los problemas a resolver se necesitan utilizar librerias que facilitaran el uso de metodos para obtener el resultado.\n",
    "\n",
    "## Lista de ejercicios (Seleccionemos 4):\n",
    "\n",
    "1. Calcular el área de un triángulo a partir de la base y altura ingresadas.\n",
    "2. Convertir una cantidad de dólares a colones.\n",
    "3. Convertir grados centígrados a Fahrenheit.\n",
    "4. Mostrar cuántos segundos tiene un lustro.\n",
    "5. Calcular el tiempo que le toma a la luz viajar del sol a Marte.\n",
    "6. Calcular cuántas vueltas da una llanta en 1 km.\n",
    "7. Calcular la longitud de la sombra de un edificio de 20 metros.\n",
    "8. Comparar si la edad ingresada por dos usuarios es la misma.\n",
    "9. Calcular cuántos meses han transcurrido desde nuestra fecha de nacimiento.\n",
    "10. Calcular el promedio de un alumno en 5 materias.\n",
    "\n",
    "## Proceso de entrega:\n",
    "1. Resolveremos 4 de los ejercicios propuestos en un notebook de.\n",
    "2. Exportaremos el notebook a PDF siguiendo el formato establecido.\n",
    "3. Subiremos el PDF y el archivo de notebook (.ipynb) a la plataforma antes de la fecha límite.\n"
   ]
  },
  {
   "cell_type": "markdown",
   "metadata": {},
   "source": [
    "# Problema #1\n",
    "\n",
    "### Convertir una cantidad de dólares a colones.\n",
    "\n",
    "## Entrada: \n",
    "Leer La cantidad de dolares\n",
    "Leer tipo cambio\n",
    "\n",
    "## Proceso:\n",
    "\n",
    "cantidad_dolares * tipo_cambio\n",
    "\n",
    "## Salida:\n",
    "\n",
    "resultado de la multiplicacion"
   ]
  },
  {
   "cell_type": "code",
   "execution_count": 4,
   "metadata": {
    "colab": {
     "base_uri": "https://localhost:8080/"
    },
    "executionInfo": {
     "elapsed": 10485,
     "status": "ok",
     "timestamp": 1712064323417,
     "user": {
      "displayName": "Andrés Mena Abarca",
      "userId": "07418092259593836578"
     },
     "user_tz": 360
    },
    "id": "n3rOsUESDeTs",
    "outputId": "1cd40ed7-f1d2-4b89-bca5-696418df0021"
   },
   "outputs": [
    {
     "name": "stdout",
     "output_type": "stream",
     "text": [
      "El resultado del tipo de cambio es: 50000.0\n"
     ]
    }
   ],
   "source": [
    "# Código solución aqui\n",
    "cantidad_de_dolares = float(input(\"Ingrese la cantidad de dolares que desea convertir: \"))\n",
    "tipo_de_cambio = float(input(\"Ingrese el tipo de cambio actual: \"))\n",
    "\n",
    "resultado = cantidad_de_dolares * tipo_de_cambio\n",
    "print(f\"El resultado del tipo de cambio es: {resultado}\")"
   ]
  },
  {
   "cell_type": "markdown",
   "metadata": {},
   "source": [
    "# Problema #2\n",
    "\n",
    "### Definir problema: \n",
    "Comparar si la edad ingresada por dos usuarios es la misma\n",
    "## Entrada: \n",
    "Edad1 , Edad2\n",
    "## Proceso: \n",
    "Si edad1 es igual a edad2 \n",
    "## Salida: \n",
    "Son las mismas edades, si no , no son la mismas "
   ]
  },
  {
   "cell_type": "code",
   "execution_count": 6,
   "metadata": {},
   "outputs": [
    {
     "name": "stdout",
     "output_type": "stream",
     "text": [
      "Las edades ingresadas son distintas\n"
     ]
    }
   ],
   "source": [
    "# Código solucción aqui\n",
    "edad1 = int(input(\"Ingrese la edad de la primera persona: \"))\n",
    "edad2 = int(input(\"Ingrese la edad de la segunda persona: \"))\n",
    "\n",
    "if edad1 == edad2:\n",
    "  print(\"Las edades ingresadas son las iguales\")\n",
    "\n",
    "else:\n",
    " print(\"Las edades ingresadas son distintas\")\n",
    "\n"
   ]
  },
  {
   "cell_type": "markdown",
   "metadata": {},
   "source": [
    "# Problema #3\n",
    "\n",
    "### Definir problema\n",
    "Calcular el tiempo que le toma a la luz viajar del sol a Marte\n",
    "\n",
    "## Entrada:\n",
    "Tiempo\n",
    "Distancia del sol a marte #esta variable cambia segun en la orbita que este marte con respecto al sol \n",
    "\n",
    "velocidad de la luz 3 esta constante no cambia \n",
    "\n",
    "## Proceso: \n",
    "distancia = distancia / velocidad\n",
    "\n",
    "## Salida:\n",
    "El tiempo que tarda la luz en viajar del sol a marte"
   ]
  },
  {
   "cell_type": "code",
   "execution_count": 7,
   "metadata": {},
   "outputs": [
    {
     "name": "stdout",
     "output_type": "stream",
     "text": [
      "El tiempo que tarda la luz en viajar desde el sol a marte es de: 823.6729591516786 Km/s\n"
     ]
    }
   ],
   "source": [
    "# Código solucción aqui\n",
    "\n",
    "distancia = float(input(\"Ingrese la distancia en la que se encuentra el sol de Marte es este mmomento: \")) ##Recordar que varia segun su orbita por lo cual es un valor que siempre cambia.\n",
    "velocidad_de_luz = 299792 ## este Valor nunca cambia ya que es la velocidad de la luz indeferente del movimiento.\n",
    "\n",
    "tiempo = distancia / velocidad_de_luz\n",
    "print (f\"El tiempo que tarda la luz en viajar desde el sol a marte es de: {tiempo} Km/s\")\n",
    "\n"
   ]
  },
  {
   "cell_type": "markdown",
   "metadata": {},
   "source": [
    "# Problema #4\n",
    "\n",
    "### Definir problema\n",
    "Calcular la longitud de la sombra de un edificio de 20 metros\n",
    "\n",
    "## Entrada:\n",
    "Altura del edificio\n",
    "angulo del sol engrados\n",
    "##Ocupamos convertir el angulo en radiane, ya que la formula lo requiere, para esto necesitamos utilizar una libreria \n",
    "\n",
    "## Proceso:\n",
    "\n",
    "L=H/tan(θ) , pero tan(θ) por si solo no me lo reconoce el codigo por lo cual debemos usar la libreria math y convertir grados a radianes \n",
    "## Salida:"
   ]
  },
  {
   "cell_type": "code",
   "execution_count": 9,
   "metadata": {},
   "outputs": [
    {
     "name": "stdout",
     "output_type": "stream",
     "text": [
      "La longitud de la sombra es:  11.547005383792518 metros\n"
     ]
    }
   ],
   "source": [
    "\n",
    "import math\n",
    "\n",
    "\n",
    "altura_edificio = 20 \n",
    "angulo_grados = float(input(\"Digite el angulo en grados con respecto al sol en que se encientra el edificio\"))\n",
    "\n",
    "# Convertir el ángulo a radianes\n",
    "angulo_radianes = math.radians(angulo_grados)\n",
    "\n",
    "# Calcular la longitud de la sombra\n",
    "longitud_sombra = altura_edificio / math.tan(angulo_radianes)\n",
    "\n",
    "# Mostrar el resultado\n",
    "print(f\"La longitud de la sombra es: {longitud_sombra: } metros\")"
   ]
  }
 ],
 "metadata": {
  "colab": {
   "provenance": []
  },
  "kernelspec": {
   "display_name": "Python 3",
   "name": "python3"
  },
  "language_info": {
   "codemirror_mode": {
    "name": "ipython",
    "version": 3
   },
   "file_extension": ".py",
   "mimetype": "text/x-python",
   "name": "python",
   "nbconvert_exporter": "python",
   "pygments_lexer": "ipython3",
   "version": "3.13.2"
  }
 },
 "nbformat": 4,
 "nbformat_minor": 0
}
