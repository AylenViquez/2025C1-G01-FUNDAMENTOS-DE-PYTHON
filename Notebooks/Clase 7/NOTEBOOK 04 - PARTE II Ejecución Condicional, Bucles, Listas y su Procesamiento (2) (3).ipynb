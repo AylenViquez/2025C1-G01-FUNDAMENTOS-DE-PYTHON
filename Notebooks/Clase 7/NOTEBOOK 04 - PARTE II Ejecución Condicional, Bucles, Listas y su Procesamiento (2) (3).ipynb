{
    "cells": [
        {
            "attachments": {},
            "cell_type": "markdown",
            "metadata": {
                "azdata_cell_guid": "5a9661f6-9c22-438b-8530-debb92fea2ff"
            },
            "source": [
                "# NOTEBOOK 04 - PARTE II Ejecución Condicional, Bucles, Listas y su Procesamiento\n",
                "\n",
                "## Fundamentos de Python | UMCA\n",
                "\n",
                "## Profesor: Ing. Andrés Mena Abarca\n",
                "\n",
                "### <mark>**Nombre del estudiante: Aylen Viquez**</mark>\n",
                "\n",
                "* * *\n",
                "\n",
                "## **¿Qué son las Listas en Python?**\n",
                "\n",
                "Imagina que tienes una caja mágica que puede contener todo tipo de objetos: desde libros, juguetes, hasta otros contenedores con más objetos dentro. No solo eso, esta caja tiene la capacidad de cambiar su contenido en cualquier momento; puedes agregar nuevos objetos, eliminar los que ya no necesitas o reorganizar su interior. En Python, esta caja mágica es lo que llamamos una **lista**.\n",
                "\n",
                "## **Definición Formal:**\n",
                "\n",
                "Una **lista** en Python es una estructura de datos **ordenada** y **mutable** que puede contener una colección de elementos, los cuales pueden ser de diferentes tipos (enteros, cadenas, booleanos, otras listas, etc.). Las listas son muy versátiles y son una de las estructuras más utilizadas en Python debido a su flexibilidad y facilidad de uso.\n",
                "\n",
                "### **Características Clave de las Listas**\n",
                "\n",
                "1. **Ordenadas:** Mantienen el orden de los elementos tal y como fueron agregados.\n",
                "2. **Mutables:** Puedes modificar su contenido sin crear una nueva lista.\n",
                "3. **Indexadas:** Cada elemento tiene una posición (índice) que permite acceder a él.\n",
                "4. **Heterogéneas:** Pueden contener elementos de diferentes tipos.\n",
                "\n",
                "### **Analogía Creativa: La Lista como un Tren**\n",
                "\n",
                "Imagina una lista como un tren compuesto por varios vagones. Cada vagón (elemento) tiene un número (índice) y puede contener cualquier cosa: pasajeros, carga, incluso otros vagones (listas anidadas). Puedes:\n",
                "\n",
                "- **Acceder** a un vagón específico usando su número.\n",
                "- **Agregar** o **eliminar** vagones en cualquier posición.\n",
                "- **Reordenar** los vagones según tus necesidades.\n",
                "\n",
                "### **1\\. Creación de Listas**\n",
                "\n",
                "### \n",
                "\n",
                "**Sintaxis básica:**\n",
                "\n",
                "```\n",
                "mi_lista = [elemento1, elemento2, elemento3]\n",
                "```\n",
                "\n",
                "Puedes crear listas de varias formas:\n",
                "\n",
                "1. **Lista Vacía:**"
            ]
        },
        {
            "cell_type": "code",
            "execution_count": 2,
            "metadata": {
                "azdata_cell_guid": "65553934-e4e4-4b44-aa2e-b234d1a33667",
                "language": "python"
            },
            "outputs": [
                {
                    "name": "stdout",
                    "output_type": "stream",
                    "text": [
                        "[1, 2, 3, 4]\n"
                    ]
                }
            ],
            "source": [
                "mi_lista = [1,2,3,4]\n",
                "\n",
                "print (mi_lista)"
            ]
        },
        {
            "attachments": {},
            "cell_type": "markdown",
            "metadata": {
                "azdata_cell_guid": "27d04572-8b5b-46fa-b3ee-4ed3f2939a34",
                "language": "python"
            },
            "source": [
                "2. **Lista con Elementos:**"
            ]
        },
        {
            "cell_type": "code",
            "execution_count": null,
            "metadata": {
                "azdata_cell_guid": "0ed8a61e-b610-437d-9a78-c75ab079f2b7",
                "language": "python"
            },
            "outputs": [],
            "source": [
                "#Crea tres tipo de listas diferentes\n",
                "\n",
                "numeros = [1,2,3,4,5]\n",
                "frutas = [\"manzana\",\"Uva\"]\n",
                "luis = [110315698, \"Luis\", True, 99.7]\n",
                "\n"
            ]
        },
        {
            "attachments": {},
            "cell_type": "markdown",
            "metadata": {
                "azdata_cell_guid": "babcfd28-f173-4adb-b593-c5cf58370bc0",
                "language": "python"
            },
            "source": [
                "3. **Usando la Función list():**"
            ]
        },
        {
            "cell_type": "code",
            "execution_count": null,
            "metadata": {
                "azdata_cell_guid": "85051147-a5a3-40e9-a423-179ac721be03",
                "language": "python"
            },
            "outputs": [],
            "source": [
                "#Convertir en lista la cadena 'abcdefghijk'\n",
                "cadena = \"abcdefghijk\"\n",
                "\n",
                "cadena_a_lista"
            ]
        },
        {
            "attachments": {},
            "cell_type": "markdown",
            "metadata": {
                "azdata_cell_guid": "e75d82f8-c903-459c-b6b4-3cdc9d23ac5c"
            },
            "source": [
                "### **2\\. Acceso a Elementos**\n",
                "\n",
                "Puedes acceder a los elementos de una lista usando índices.\n",
                "\n",
                "**Ejemplo:**"
            ]
        },
        {
            "cell_type": "code",
            "execution_count": 30,
            "metadata": {
                "azdata_cell_guid": "26417c6c-aa5d-41a9-b7c7-fa268a476a6d",
                "language": "python",
                "tags": []
            },
            "outputs": [
                {
                    "name": "stdout",
                    "output_type": "stream",
                    "text": [
                        "0\n",
                        "1\n"
                    ]
                }
            ],
            "source": [
                "#Trabajemos con la lista frutas\n",
                "frutas = [\"Manzana\", \"uvas\"]\n",
                "\n",
                "# Imprimir el índice del elemento 'Manzana'\n",
                "print(frutas.index(\"Manzana\"))\n",
                "\n",
                "# Imprimir el índice del elemento 'uvas'\n",
                "print(frutas.index(\"uvas\"))\n"
            ]
        },
        {
            "attachments": {},
            "cell_type": "markdown",
            "metadata": {
                "azdata_cell_guid": "ac71941a-8e0d-4ea1-98ff-b293ecd8defb",
                "language": "python"
            },
            "source": [
                "### **3\\. Modificación de Elementos**\n",
                "\n",
                "Al ser mutables, puedes cambiar los valores de los elementos existentes.\n",
                "\n",
                "**Ejemplo:**"
            ]
        },
        {
            "cell_type": "code",
            "execution_count": null,
            "metadata": {
                "azdata_cell_guid": "d820e888-4c7f-488e-8d16-506bfb2d7083",
                "language": "python"
            },
            "outputs": [],
            "source": []
        },
        {
            "attachments": {},
            "cell_type": "markdown",
            "metadata": {
                "azdata_cell_guid": "7d08ceac-43f5-4144-9a55-2524859d645c"
            },
            "source": [
                "### **4\\. Slicing (Segmentación)**\n",
                "\n",
                "Puedes obtener sublistas usando la notación de slicing.\n",
                "\n",
                "**Sintaxis:**\n",
                "\n",
                "```\n",
                "sub_lista = lista[inicio:fin:paso]\n",
                "```"
            ]
        },
        {
            "cell_type": "code",
            "execution_count": 27,
            "metadata": {
                "azdata_cell_guid": "ac546c59-6cc2-47f1-8b71-daeb61c6475c",
                "language": "python"
            },
            "outputs": [
                {
                    "name": "stdout",
                    "output_type": "stream",
                    "text": [
                        "[2, 3, 4]\n",
                        "[0, 1, 2]\n",
                        "[3, 4, 5, 6]\n",
                        "[0, 2, 4, 6]\n",
                        "[6, 5, 4, 3, 2, 1, 0]\n"
                    ]
                }
            ],
            "source": [
                "numeros = [0, 1, 2, 3, 4, 5, 6]\n",
                "\n",
                "# Output: [2, 3, 4]\n",
                "print(numeros[2:5])  # Desde el índice 2 hasta el 4 (el índice 5 no se incluye)\n",
                "\n",
                "# Output: [0, 1, 2]\n",
                "print(numeros[:3])  # Desde el inicio hasta el índice 2 (el índice 3 no se incluye)\n",
                "\n",
                "# Output: [3, 4, 5, 6]\n",
                "print(numeros[3:])  # Desde el índice 3 hasta el final\n",
                "\n",
                "# Output: [0, 2, 4, 6]\n",
                "print(numeros[::2])  # Desde el inicio, con un paso de 2\n",
                "\n",
                "# Output: [6, 5, 4, 3, 2, 1, 0]\n",
                "print(numeros[::-1])  # Reversa la lista\n"
            ]
        },
        {
            "attachments": {},
            "cell_type": "markdown",
            "metadata": {
                "azdata_cell_guid": "90552ad9-627b-42bd-84b0-f87e15cfe087"
            },
            "source": [
                "### **5\\. Operaciones Básicas con Listas**\n",
                "\n",
                "### \n",
                "\n",
                "- **Concatenación:**"
            ]
        },
        {
            "cell_type": "code",
            "execution_count": 26,
            "metadata": {
                "azdata_cell_guid": "90b5ee62-7483-4012-88a1-415f1716cb3e",
                "language": "python"
            },
            "outputs": [
                {
                    "name": "stdout",
                    "output_type": "stream",
                    "text": [
                        "[1, 2, 3, 4, 5, 6]\n"
                    ]
                }
            ],
            "source": [
                "lista1 = [1, 2, 3]\n",
                "lista2 = [4, 5, 6]\n",
                "\n",
                "# Concatenar las listas\n",
                "lista_concatenada = lista1 + lista2\n",
                "\n",
                "print(lista_concatenada)\n"
            ]
        },
        {
            "attachments": {},
            "cell_type": "markdown",
            "metadata": {
                "azdata_cell_guid": "912eadcc-91f2-4468-9b5a-16d0bc78cde0",
                "language": "python"
            },
            "source": [
                "- **Repetición:**"
            ]
        },
        {
            "cell_type": "code",
            "execution_count": null,
            "metadata": {
                "azdata_cell_guid": "b5433f45-d0e6-41bf-9115-d70097905500",
                "language": "python"
            },
            "outputs": [],
            "source": [
                "\n",
                "\n",
                "#Agregar una nuevo elemento\n",
                "frutas = ['manzana', 'uva', 'pera', 'aguacate']\n",
                "print(frutas)"
            ]
        },
        {
            "attachments": {},
            "cell_type": "markdown",
            "metadata": {
                "azdata_cell_guid": "a1bffa0c-75b2-4adf-84c7-ea247d6d226a",
                "language": "python"
            },
            "source": [
                "### **6\\. Métodos Comunes de Listas**\n",
                "\n",
                "1. **Agregar Elementos:**\n",
                "    \n",
                "- **append(elemento):** Añade un elemento al final."
            ]
        },
        {
            "cell_type": "code",
            "execution_count": 6,
            "metadata": {
                "azdata_cell_guid": "a08acaf0-4336-416b-b901-a7e88f898efc",
                "language": "python"
            },
            "outputs": [
                {
                    "name": "stdout",
                    "output_type": "stream",
                    "text": [
                        "['manzana', 'uva', 'pera', 'aguacate']\n"
                    ]
                }
            ],
            "source": [
                "#Agregar una nuevo elemento\n",
                "frutas = ['manzana','uva','pera','aguacate']\n",
                "print (frutas)\n",
                "\n",
                "\n"
            ]
        },
        {
            "attachments": {},
            "cell_type": "markdown",
            "metadata": {
                "azdata_cell_guid": "1d0f59c8-cf18-4eee-9bcd-ed678e4b8a80",
                "language": "python"
            },
            "source": [
                "- **extend(iterable):** Extiende la lista con elementos de un iterable."
            ]
        },
        {
            "cell_type": "code",
            "execution_count": 17,
            "metadata": {
                "azdata_cell_guid": "ad4cd691-47dd-4b8a-a62c-5e2c5894c9c5",
                "language": "python"
            },
            "outputs": [
                {
                    "name": "stdout",
                    "output_type": "stream",
                    "text": [
                        "['manzana', 'uva', 'melocoton']\n",
                        "['manzana', 'uva', 'melocoton', 'kiwi', 'sandia']\n"
                    ]
                }
            ],
            "source": [
                "#Agregar dos elementos mas a la lista\n",
                "frutas = [\"manzana\", \"uva\", \"melocoton\"]\n",
                "print(frutas)\n",
                "\n",
                "frutas.extend([\"kiwi\", \"sandia\"])  # Pasa una lista como argumento\n",
                "print(frutas)\n",
                "\n",
                "\n"
            ]
        },
        {
            "attachments": {},
            "cell_type": "markdown",
            "metadata": {
                "azdata_cell_guid": "3d999463-d09f-4447-b4be-b038ed530f03",
                "language": "python"
            },
            "source": [
                "- **insert(índice, elemento):** Inserta un elemento en una posición específica."
            ]
        },
        {
            "cell_type": "code",
            "execution_count": 18,
            "metadata": {
                "azdata_cell_guid": "b0b48116-a1cd-43a0-9987-75e9c99423ad",
                "language": "python"
            },
            "outputs": [
                {
                    "name": "stdout",
                    "output_type": "stream",
                    "text": [
                        "['manzana', 'uva', 'pera', 'aguacate', 'naranja', 'kiwi']\n",
                        "['manzana', 'Kiwi', 'uva', 'pera', 'aguacate', 'naranja', 'kiwi']\n"
                    ]
                }
            ],
            "source": [
                "#Insertar en un posición especifica 1\n",
                "frutas = ['manzana', 'uva', 'pera', 'aguacate', 'naranja','kiwi']\n",
                "print(frutas)\n",
                "\n",
                "frutas.insert(1,\"Kiwi\")\n",
                "print(frutas)"
            ]
        },
        {
            "attachments": {},
            "cell_type": "markdown",
            "metadata": {
                "azdata_cell_guid": "b72219b2-85ec-48de-a0d3-d2fb2acae839",
                "language": "python"
            },
            "source": [
                "**2\\. Eliminar Elementos:**\n",
                "\n",
                "- **remove(elemento):** Elimina el primer elemento con el valor especificado."
            ]
        },
        {
            "cell_type": "code",
            "execution_count": 21,
            "metadata": {
                "azdata_cell_guid": "76056d32-857e-402e-a413-b68436e450b9",
                "language": "python"
            },
            "outputs": [
                {
                    "name": "stdout",
                    "output_type": "stream",
                    "text": [
                        "['manzana', 'uva', 'pera', 'aguacate', 'naranja', 'kiwi', 'kiwi']\n",
                        "['manzana', 'uva', 'pera', 'aguacate', 'naranja', 'kiwi']\n"
                    ]
                }
            ],
            "source": [
                "frutas = ['manzana', 'uva', 'pera', 'aguacate', 'naranja','kiwi','kiwi']\n",
                "print(frutas)\n",
                "\n",
                "frutas.remove(\"kiwi\")\n",
                "print(frutas)"
            ]
        },
        {
            "attachments": {},
            "cell_type": "markdown",
            "metadata": {
                "azdata_cell_guid": "fabd778a-c197-458f-839f-8fd3bfdb2d9b",
                "language": "python"
            },
            "source": [
                "**pop(índice):** Elimina y devuelve el elemento en el índice especificado."
            ]
        },
        {
            "cell_type": "code",
            "execution_count": 23,
            "metadata": {
                "azdata_cell_guid": "28a29944-e61c-4257-8440-db41702ecf27",
                "language": "python"
            },
            "outputs": [
                {
                    "name": "stdout",
                    "output_type": "stream",
                    "text": [
                        "['manzana', 'uva', 'pera', 'aguacate', 'naranja', 'kiwi', 'kiwi']\n",
                        "Fruta eliminada kiwi\n",
                        "['manzana', 'uva', 'pera', 'aguacate', 'naranja', 'kiwi']\n"
                    ]
                }
            ],
            "source": [
                "frutas = ['manzana', 'uva', 'pera', 'aguacate', 'naranja','kiwi','kiwi']\n",
                "print(frutas)\n",
                "\n",
                "fruta = frutas.pop(5)\n",
                "print(f\"Fruta eliminada {fruta}\")\n",
                "print(frutas)"
            ]
        },
        {
            "attachments": {},
            "cell_type": "markdown",
            "metadata": {
                "azdata_cell_guid": "214e5d4b-48ef-4936-b3d7-67fc209b9413",
                "language": "python"
            },
            "source": [
                "- **clear():** Elimina todos los elementos de la lista."
            ]
        },
        {
            "cell_type": "code",
            "execution_count": 24,
            "metadata": {
                "azdata_cell_guid": "99039b69-3193-4ff5-b185-883d0c198f42",
                "language": "python"
            },
            "outputs": [
                {
                    "name": "stdout",
                    "output_type": "stream",
                    "text": [
                        "['manzana', 'uva', 'pera', 'aguacate', 'naranja', 'kiwi', 'kiwi']\n",
                        "[]\n"
                    ]
                }
            ],
            "source": [
                "frutas = ['manzana', 'uva', 'pera', 'aguacate', 'naranja','kiwi','kiwi']\n",
                "print(frutas)\n",
                "frutas.clear()\n",
                "print(frutas)"
            ]
        },
        {
            "attachments": {},
            "cell_type": "markdown",
            "metadata": {
                "azdata_cell_guid": "0ab9e912-56b9-4d97-a531-6a1d9be1236a",
                "language": "python"
            },
            "source": [
                "3. **Ordenar y Revertir:**\n",
                "\n",
                "- **sort():** Ordena la lista en orden ascendente."
            ]
        },
        {
            "cell_type": "code",
            "execution_count": 34,
            "metadata": {
                "azdata_cell_guid": "143cb071-e30e-4111-8584-d5165cb0277c",
                "language": "python"
            },
            "outputs": [
                {
                    "name": "stdout",
                    "output_type": "stream",
                    "text": [
                        "['Banana', 'Manzana', 'cereza']\n"
                    ]
                }
            ],
            "source": [
                "frutas = [\"Manzana\", \"Banana\", \"cereza\"]\n",
                "\n",
                "# Ordenar la lista de frutas\n",
                "frutas.sort()\n",
                "\n",
                "# Imprimir la lista ordenada\n",
                "print(frutas)\n"
            ]
        },
        {
            "attachments": {},
            "cell_type": "markdown",
            "metadata": {
                "azdata_cell_guid": "2a2de66a-3b2f-42bd-8acd-8af6251e89a8",
                "language": "python"
            },
            "source": [
                "**reverse():** <span style=\"color: var(--vscode-foreground);\"> Invierte el orden de la lista.</span>"
            ]
        },
        {
            "cell_type": "code",
            "execution_count": 35,
            "metadata": {
                "azdata_cell_guid": "91b18583-e7da-4457-8676-965551158de8",
                "language": "python",
                "tags": []
            },
            "outputs": [
                {
                    "name": "stdout",
                    "output_type": "stream",
                    "text": [
                        "[9, 5, 1, 4, 1, 3]\n"
                    ]
                }
            ],
            "source": [
                "numeros = [3, 1, 4, 1, 5, 9]\n",
                "\n",
                "numeros.reverse()\n",
                "print(numeros)\n"
            ]
        },
        {
            "attachments": {},
            "cell_type": "markdown",
            "metadata": {
                "azdata_cell_guid": "872eb471-9968-4c9d-9b34-f48d30e2bb52",
                "language": "python"
            },
            "source": [
                "### **Iteración sobre Listas**\n",
                "\n",
                "- **Usando un Bucle `for`:**"
            ]
        },
        {
            "cell_type": "code",
            "execution_count": 36,
            "metadata": {
                "azdata_cell_guid": "65b98600-e0c2-4a62-9d0e-a51734e898fd",
                "language": "python"
            },
            "outputs": [
                {
                    "name": "stdout",
                    "output_type": "stream",
                    "text": [
                        "Banana\n",
                        "Manzana\n",
                        "cereza\n"
                    ]
                }
            ],
            "source": [
                "frutas = [\"Manzana\", \"Banana\", \"cereza\"]\n",
                "\n",
                "# Ordenar la lista de frutas\n",
                "frutas.sort()\n",
                "\n",
                "# Usar el bucle for para imprimir cada fruta\n",
                "for fruta in frutas:\n",
                "    print(fruta)\n",
                "\n",
                " \n"
            ]
        },
        {
            "cell_type": "code",
            "execution_count": 37,
            "metadata": {
                "azdata_cell_guid": "27388f2a-2d5a-4371-bcff-d151d7ddd554",
                "language": "python"
            },
            "outputs": [
                {
                    "name": "stdout",
                    "output_type": "stream",
                    "text": [
                        "['ANA', 'LUIS', 'MARÍA']\n"
                    ]
                }
            ],
            "source": [
                "nombres = ['ana', 'luis', 'maría']\n",
                "nombres_mayus = [nombre.upper() for nombre in nombres]\n",
                "print(nombres_mayus)\n",
                "\n"
            ]
        },
        {
            "attachments": {},
            "cell_type": "markdown",
            "metadata": {
                "azdata_cell_guid": "d181a09f-a34a-4842-8dcd-6fdbd3d43605",
                "language": "python"
            },
            "source": [
                "- **Usando un Bucle `while`:**"
            ]
        },
        {
            "cell_type": "code",
            "execution_count": 43,
            "metadata": {
                "azdata_cell_guid": "eb35731a-c18e-484a-81b0-bae745e84bc7",
                "language": "python"
            },
            "outputs": [
                {
                    "name": "stdout",
                    "output_type": "stream",
                    "text": [
                        "5\n",
                        "0\n",
                        "1\n",
                        "2\n",
                        "3\n",
                        "4\n"
                    ]
                }
            ],
            "source": [
                "numeros = [0, 1, 2, 3, 4]\n",
                "i = 0\n",
                "tamano = len(numeros)\n",
                "print(tamano)\n",
                "\n",
                "while i < tamano:\n",
                "    print(numeros[i])\n",
                "    i += 1\n"
            ]
        },
        {
            "attachments": {},
            "cell_type": "markdown",
            "metadata": {
                "azdata_cell_guid": "83df706e-8351-4880-82f4-cecda108ac1f",
                "language": "python"
            },
            "source": [
                "- **Comprobación de Pertenencia:**"
            ]
        },
        {
            "cell_type": "code",
            "execution_count": 45,
            "metadata": {
                "azdata_cell_guid": "8a1f9ad9-0dc5-4291-a936-d15d9caa93ca",
                "language": "python"
            },
            "outputs": [
                {
                    "name": "stdout",
                    "output_type": "stream",
                    "text": [
                        "True\n",
                        "Daniela es una estudiante de phython\n"
                    ]
                }
            ],
            "source": [
                "estudiante = [\"Carlos\", 'Javier', 'Jafet', 'Daniela', 'Pamela']\n",
                "\n",
                "print(\"Daniela\" in estudiante)\n",
                "\n",
                "if 'Daniela' in estudiante:\n",
                "    print(\"Daniela es una estudiante de phython\")\n",
                "else:\n",
                "    print ('Daniela no es estudiante')\n",
                "    "
            ]
        },
        {
            "attachments": {},
            "cell_type": "markdown",
            "metadata": {
                "azdata_cell_guid": "7a387c19-3988-4cdd-a37b-33becdadbb46"
            },
            "source": [
                "### **7\\. Copiando Listas**\n",
                "\n",
                "- **Asignación Directa (Referencias):**\n",
                "    \n",
                "\n",
                "Ambas variables apuntan a la misma lista en memoria."
            ]
        },
        {
            "cell_type": "code",
            "execution_count": 46,
            "metadata": {
                "azdata_cell_guid": "12496b36-600f-4f59-8607-58eafbbac4e5",
                "language": "python"
            },
            "outputs": [
                {
                    "name": "stdout",
                    "output_type": "stream",
                    "text": [
                        "[1, 2, 3, 4]\n"
                    ]
                }
            ],
            "source": [
                "lista_original = [1, 2, 3]\n",
                "lista_copia = lista_original\n",
                "lista_copia.append(4)\n",
                "print(lista_original)  # Output: [1, 2, 3, 4]"
            ]
        },
        {
            "attachments": {},
            "cell_type": "markdown",
            "metadata": {
                "azdata_cell_guid": "cf248c2d-d39b-4046-ad72-f58b181e000e",
                "language": "python"
            },
            "source": [
                "- **Copia Superficial:**\n",
                "\n",
                "Se crea una nueva lista, pero si contiene objetos mutables, estos no se copian profundamente."
            ]
        },
        {
            "cell_type": "code",
            "execution_count": 47,
            "metadata": {
                "azdata_cell_guid": "48c67f08-728c-4da5-9dac-10a87df4b875",
                "language": "python",
                "tags": []
            },
            "outputs": [],
            "source": [
                "lista_copia = lista_original.copy()\n",
                "# O\n",
                "lista_copia = lista_original[:]\n"
            ]
        },
        {
            "attachments": {},
            "cell_type": "markdown",
            "metadata": {
                "azdata_cell_guid": "348e33ef-87ca-44e8-b013-304353b0c9b8",
                "language": "python"
            },
            "source": [
                "- **Copia Profunda:**\n",
                "\n",
                "Copia completamente independiente, incluso para objetos mutables anidados."
            ]
        },
        {
            "cell_type": "code",
            "execution_count": 48,
            "metadata": {
                "azdata_cell_guid": "cfa4773a-f8cc-486e-9c9e-3610f6026c4c",
                "language": "python"
            },
            "outputs": [],
            "source": [
                "import copy\n",
                "lista_copia_profunda = copy.deepcopy(lista_original)\n"
            ]
        },
        {
            "attachments": {},
            "cell_type": "markdown",
            "metadata": {
                "azdata_cell_guid": "752f7af5-c4ff-40c2-b07c-2b601006c28d",
                "language": "python"
            },
            "source": [
                "### \n",
                "\n",
                "- **Listas Anidadas**\n",
                "\n",
                "Las listas pueden contener otras listas."
            ]
        },
        {
            "cell_type": "code",
            "execution_count": 50,
            "metadata": {
                "azdata_cell_guid": "d510a921-a322-48da-a3aa-fe23d30fcc36",
                "language": "python"
            },
            "outputs": [
                {
                    "name": "stdout",
                    "output_type": "stream",
                    "text": [
                        "3\n"
                    ]
                }
            ],
            "source": [
                "lista_anidada = [[1, 2], [3, 4], [5, 6]]\n",
                "print(lista_anidada[1][0])  # Output: 3\n"
            ]
        },
        {
            "attachments": {},
            "cell_type": "markdown",
            "metadata": {
                "azdata_cell_guid": "0e8ba81c-d786-4eda-8549-651a813c1054",
                "language": "python"
            },
            "source": [
                "### **10. Funciones Integradas Útiles**\n",
                "\n",
                "numeros = \\[1, 2, 3, 4, 5, 6\\]\n",
                "\n",
                "- **len(lista):** Devuelve el número de elementos.\n",
                "    \n",
                "    ```python\n",
                "    print(len(numeros))  # Output: 6\n",
                "    ```\n",
                "    \n",
                "- **sum(lista):** Suma los elementos (si son numéricos).\n",
                "    \n",
                "   ```python\n",
                "    print(sum(numeros))  # Output: 21\n",
                "    ```\n",
                "    \n",
                "- **min(lista), max(lista):** Devuelve el valor mínimo y máximo.\n",
                "    \n",
                "     ```python\n",
                "    print(min(numeros))  # Output: 1print(max(numeros))  # Output: 6\n",
                "    \n",
                "    ```\n",
                "    \n",
                "\n",
                "### **Aplicaciones Prácticas de las Listas**"
            ]
        },
        {
            "cell_type": "code",
            "execution_count": 60,
            "metadata": {},
            "outputs": [
                {
                    "name": "stdout",
                    "output_type": "stream",
                    "text": [
                        "6\n",
                        "21\n",
                        "1\n"
                    ]
                }
            ],
            "source": [
                "numeros = [1, 2, 3, 4, 5, 6]\n",
                "print(len(numeros))\n",
                "print(sum(numeros)) \n",
                "print(min(numeros)) "
            ]
        },
        {
            "attachments": {},
            "cell_type": "markdown",
            "metadata": {
                "azdata_cell_guid": "c24a4bae-ea4c-485d-8067-d5e07afb3435",
                "language": "python"
            },
            "source": [
                "# **Actividad Interactiva: Análisis de Datos Simple con Listas**\n",
                "\n",
                "**Objetivo:** Aplicar los conceptos aprendidos sobre listas para realizar un análisis de datos sencillo.\n",
                "\n",
                "**Descripción de la Actividad:**\n",
                "\n",
                "Trabajaremos con una lista de temperaturas registradas durante una semana y realizarán varias operaciones para extraer información útil.\n",
                "\n",
                "**Pasos de la Actividad:**\n",
                "\n",
                "1. **Creación de la Lista de Datos:**"
            ]
        },
        {
            "cell_type": "code",
            "execution_count": null,
            "metadata": {
                "azdata_cell_guid": "9632a0a3-3979-4a34-b08b-82179de35bc0",
                "language": "python"
            },
            "outputs": [],
            "source": [
                "#               Lu  Ma  Mi  Ju  Vi  Sa  Do\n",
                "temperaturas = [22, 24, 19, 23, 25, 20, 21]"
            ]
        },
        {
            "attachments": {},
            "cell_type": "markdown",
            "metadata": {
                "azdata_cell_guid": "53602225-9571-4b97-af9b-0921d1a8b986",
                "language": "python"
            },
            "source": [
                "2. **Calcular la Temperatura Promedio de la Semana:**"
            ]
        },
        {
            "cell_type": "code",
            "execution_count": 56,
            "metadata": {
                "azdata_cell_guid": "07d09035-3640-4277-9d81-c086f12e07d6",
                "language": "python"
            },
            "outputs": [
                {
                    "name": "stdout",
                    "output_type": "stream",
                    "text": [
                        "La temperatura promedio es:  22.0 °C\n"
                    ]
                }
            ],
            "source": [
                "temperaturas = [22, 24, 19, 23, 25, 20, 21]\n",
                "\n",
                "# Calcular el promedio\n",
                "promedio = sum(temperaturas) / len(temperaturas)\n",
                "\n",
                "\n",
                "print(f\"La temperatura promedio es: {promedio: } °C\")\n"
            ]
        },
        {
            "attachments": {},
            "cell_type": "markdown",
            "metadata": {
                "azdata_cell_guid": "1516e477-febc-478a-b4dc-faca948b9b44",
                "language": "python"
            },
            "source": [
                "3. **Encontrar la Temperatura Máxima y Mínima:**"
            ]
        },
        {
            "cell_type": "code",
            "execution_count": 59,
            "metadata": {
                "azdata_cell_guid": "fa450303-5f00-4c59-a3c8-ace9daea9196",
                "language": "python"
            },
            "outputs": [
                {
                    "name": "stdout",
                    "output_type": "stream",
                    "text": [
                        "La temperatura maxima durante la semana fue de: 25 °C\n",
                        "La temperatura minima durante la semana fue de: 19 °C\n"
                    ]
                }
            ],
            "source": [
                "#               Lu  Ma  Mi  Ju  Vi  Sa  Do\n",
                "temperaturas = [22, 24, 19, 23, 25, 20, 21]\n",
                "\n",
                "temp_max = max(temperaturas)\n",
                "temp_min = min(temperaturas)\n",
                "\n",
                "print(f'La temperatura maxima durante la semana fue de: {temp_max} °C')\n",
                "\n",
                "print(f'La temperatura minima durante la semana fue de: {temp_min} °C')"
            ]
        },
        {
            "attachments": {},
            "cell_type": "markdown",
            "metadata": {
                "azdata_cell_guid": "af7ad57b-4cdd-444f-a6bf-b3cb9b531c7e",
                "language": ""
            },
            "source": [
                "4. **Días con Temperatura por Encima de la Media:**"
            ]
        },
        {
            "cell_type": "code",
            "execution_count": 61,
            "metadata": {
                "azdata_cell_guid": "9e4ad645-b57a-46c6-9a9b-4accd0fbab0c",
                "language": "python"
            },
            "outputs": [
                {
                    "name": "stdout",
                    "output_type": "stream",
                    "text": [
                        " El día 2 es cálido, con una temperatura de 24\n",
                        " El día 4 es cálido, con una temperatura de 23\n",
                        " El día 5 es cálido, con una temperatura de 25\n"
                    ]
                }
            ],
            "source": [
                "#               Lu  Ma  Mi  Ju  Vi  Sa  Do\n",
                "temperaturas = [22, 24, 19, 23, 25, 20, 21]\n",
                "\n",
                "\n",
                "promedio = sum(temperaturas) / len(temperaturas)\n",
                "\n",
                "\n",
                "dia = 0\n",
                "while dia < len (temperaturas):\n",
                "    if temperaturas[dia] > promedio:\n",
                "        print(f' El día {dia + 1} es cálido, con una temperatura de {temperaturas[dia]}')\n",
                "    dia += 1\n"
            ]
        },
        {
            "attachments": {},
            "cell_type": "markdown",
            "metadata": {
                "azdata_cell_guid": "a5cb67cf-7434-4871-82b6-ef58b167bb6e",
                "language": "python"
            },
            "source": [
                "5. **Modificar la Lista para Incluir una Nueva Temperatura y Recalcular:**\n",
                "\n",
                "- Agregar la temperatura del día extra:"
            ]
        },
        {
            "cell_type": "code",
            "execution_count": 64,
            "metadata": {
                "azdata_cell_guid": "7ee71561-594c-4d97-b706-4f2a2bb63c2f",
                "language": "python"
            },
            "outputs": [
                {
                    "name": "stdout",
                    "output_type": "stream",
                    "text": [
                        "[22, 24, 19, 23, 25, 20, 21, 28]\n"
                    ]
                }
            ],
            "source": [
                "#               Lu  Ma  Mi  Ju  Vi  Sa  Do\n",
                "temperaturas = [22, 24, 19, 23, 25, 20, 21]\n",
                "\n",
                "\n",
                "temperaturas.append(28)\n",
                "print(temperaturas)\n",
                "\n"
            ]
        },
        {
            "attachments": {},
            "cell_type": "markdown",
            "metadata": {
                "azdata_cell_guid": "c9ab22f0-6c9d-43d9-9c5c-12589b7e878e",
                "language": "python"
            },
            "source": [
                "- **Recalcular la temperatura media:**"
            ]
        },
        {
            "cell_type": "code",
            "execution_count": 63,
            "metadata": {
                "azdata_cell_guid": "2b9302b0-9e3d-4b31-9970-fe7888d6943b",
                "language": "python"
            },
            "outputs": [
                {
                    "name": "stdout",
                    "output_type": "stream",
                    "text": [
                        "[22, 24, 19, 23, 25, 20, 21, 28]\n",
                        "22.75\n"
                    ]
                }
            ],
            "source": [
                "#               Lu  Ma  Mi  Ju  Vi  Sa  Do\n",
                "temperaturas = [22, 24, 19, 23, 25, 20, 21]\n",
                "\n",
                "\n",
                "temperaturas.append(28)\n",
                "print(temperaturas)\n",
                "\n",
                "nueva_media = sum(temperaturas) / len(temperaturas)\n",
                "print(nueva_media)"
            ]
        },
        {
            "attachments": {},
            "cell_type": "markdown",
            "metadata": {
                "azdata_cell_guid": "01af2113-4fe5-4822-8e15-0a5c4f07d330",
                "language": "python"
            },
            "source": [
                "6. **Ordenar las Temperaturas y Mostrar el Resultado:**"
            ]
        },
        {
            "cell_type": "code",
            "execution_count": 66,
            "metadata": {
                "azdata_cell_guid": "b5678c84-09d7-43b3-b63c-b7473d31b781",
                "language": "python"
            },
            "outputs": [
                {
                    "name": "stdout",
                    "output_type": "stream",
                    "text": [
                        "Temperaturas ordenadas: [19, 20, 21, 22, 23, 24, 25, 28]\n"
                    ]
                }
            ],
            "source": [
                "\n",
                "temperaturas = [22, 24, 19, 23, 25, 20, 21]\n",
                "\n",
                "temperaturas.append(28)\n",
                "\n",
                "temperaturas_ordenadas = sorted(temperaturas)\n",
                "\n",
                "\n",
                "print(\"Temperaturas ordenadas:\", temperaturas_ordenadas)\n"
            ]
        },
        {
            "attachments": {},
            "cell_type": "markdown",
            "metadata": {
                "azdata_cell_guid": "6016e3d3-8a04-4dd4-a69a-31ebd14bc46c",
                "language": "python"
            },
            "source": [
                "**Extensión de la Actividad:**\n",
                "\n",
                "- **Visualización Simple:**\n",
                "    \n",
                "    Los estudiantes pueden crear un gráfico de las temperaturas usando `matplotlib` (si se ha visto previamente)."
            ]
        },
        {
            "cell_type": "code",
            "execution_count": 77,
            "metadata": {
                "azdata_cell_guid": "cea0661b-608d-4073-8286-960365e894e8",
                "language": ""
            },
            "outputs": [
                {
                    "data": {
                        "image/png": "[encoded data removed]",
                        "text/plain": [
                            "<Figure size 640x480 with 1 Axes>"
                        ]
                    },
                    "metadata": {},
                    "output_type": "display_data"
                }
            ],
            "source": [
                "\n",
                "import matplotlib.pyplot as plt\n",
                "\n",
                "\n",
                "# Días de la semana y temperaturas correspondientes\n",
                "dias = ['Lun', 'Mar', 'Mié', 'Jue', 'Vie', 'Sáb', 'Dom']\n",
                "temperaturas = [22, 24, 19, 23, 25, 20, 21]\n",
                "\n",
                "# Graficar temperaturas\n",
                "plt.plot(dias, temperaturas, marker='o', linestyle='-')\n",
                "\n",
                "# Etiquetas y título\n",
                "plt.title('Temperaturas Semanales')\n",
                "plt.xlabel('Días')\n",
                "plt.ylabel('Temperatura (°C)')\n",
                "\n",
                "# Ajuste de las etiquetas del eje X\n",
                "plt.xticks(dias)\n",
                "\n",
                "# Mostrar la gráfica\n",
                "plt.show()\n",
                "\n"
            ]
        }
    ],
    "metadata": {
        "kernelspec": {
            "display_name": "Python 3",
            "language": "python",
            "name": "python3"
        },
        "language_info": {
            "codemirror_mode": {
                "name": "ipython",
                "version": 3
            },
            "file_extension": ".py",
            "mimetype": "text/x-python",
            "name": "python",
            "nbconvert_exporter": "python",
            "pygments_lexer": "ipython3",
            "version": "3.13.2"
        }
    },
    "nbformat": 4,
    "nbformat_minor": 2
}
