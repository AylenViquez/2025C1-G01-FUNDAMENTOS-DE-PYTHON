num1 = 10
num2 = 5

suma = num1 + num2 #Ejemplo de la suma 
print(f"La suma de {num1} + {num2} = {suma}")

resta = num1 - num2 #Ejemplo de la resta
print(f"La resta de {num1} - {num2} = {resta}")

multiplicacion = num1 * num2 #Ejemplo de la multiplicacion
print(f"La resta de {num1} * {num2} = {multiplicacion}")

division = num1 / num2 #Ejemplo de la division
print(f"La resta de {num1} / {num2} = {division}")
