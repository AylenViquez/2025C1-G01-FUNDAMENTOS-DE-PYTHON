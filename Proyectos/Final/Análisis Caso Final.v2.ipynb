{
    "cells": [
        {
            "attachments": {},
            "cell_type": "markdown",
            "metadata": {
                "azdata_cell_guid": "43094d38-2acc-463a-bdf3-97ba90623fe5",
                "id": "a62202dd"
            },
            "source": [
                "# 📊 Caso de análisis: Emisiones de dióxido de carbono por país (1975-2017)\n",
                "## 🧠 Objetivo:\n",
                "Los estudiantes deben analizar la evolución de las emisiones de CO₂ en varios países desde 1975 hasta 2017, distinguiendo entre:\n",
                "\n",
                "- Emisiones totales: Miden la cantidad total de CO₂ emitido en un país.\n",
                "\n",
                "- Emisiones per cápita: Indican cuántas toneladas métricas de CO₂ emite, en promedio, una persona en ese país."
            ]
        },
        {
            "attachments": {},
            "cell_type": "markdown",
            "metadata": {
                "azdata_cell_guid": "aaf7af2f-c9dd-4e9e-9de1-6543ad2e0064"
            },
            "source": [
                "## <mark>Estudiante:  Aylen Viquez Madrigal</mark>"
            ]
        },
        {
            "cell_type": "markdown",
            "metadata": {
                "azdata_cell_guid": "5d6834bd-ea61-4f0a-b586-a118753e31a9",
                "id": "e21e6b1c"
            },
            "source": [
                "## Contexto\n"
            ]
        },
        {
            "cell_type": "code",
            "execution_count": null,
            "metadata": {},
            "outputs": [],
            "source": []
        },
        {
            "cell_type": "markdown",
            "metadata": {
                "azdata_cell_guid": "5b449223-cfd9-4324-8796-a7688878110c",
                "id": "c4c7df65"
            },
            "source": [
                "🌍 Análisis de Emisiones de CO₂ – Caso Práctico\n",
                "📁 Archivo: Carbon_Dioxide_Emission_Estimates.csv\n",
                "Contiene datos de emisiones de dióxido de carbono (CO₂) de varios países entre 1975 y 2017.\n",
                "\n",
                "🧾 Estructura de los datos\n",
                "- Country: País\n",
                "\n",
                "- Year: Año\n",
                "\n",
                "- Type: Tipo de emisión:\n",
                "\n",
                "    * Emisiones totales (kilotoneladas métricas)\n",
                "\n",
                "    * Emisiones per cápita (toneladas métricas por persona)\n",
                "\n",
                "- Value: Valor numérico de la emisión\n",
                "\n",
                "🔍 Tipos de emisiones\n",
                "- Totales: CO₂ emitido por todo el país (kt)\n",
                "\n",
                "- Per cápita: CO₂ promedio por persona (t CO₂/persona)\n",
                "\n",
                "    - Se calcula dividiendo emisiones totales por la población"
            ]
        },
        {
            "cell_type": "code",
            "execution_count": 23,
            "metadata": {},
            "outputs": [
                {
                    "data": {
                        "text/html": [
                            "<div>\n",
                            "<style scoped>\n",
                            "    .dataframe tbody tr th:only-of-type {\n",
                            "        vertical-align: middle;\n",
                            "    }\n",
                            "\n",
                            "    .dataframe tbody tr th {\n",
                            "        vertical-align: top;\n",
                            "    }\n",
                            "\n",
                            "    .dataframe thead th {\n",
                            "        text-align: right;\n",
                            "    }\n",
                            "</style>\n",
                            "<table border=\"1\" class=\"dataframe\">\n",
                            "  <thead>\n",
                            "    <tr style=\"text-align: right;\">\n",
                            "      <th></th>\n",
                            "      <th>Country</th>\n",
                            "      <th>Year</th>\n",
                            "      <th>Type</th>\n",
                            "      <th>Value</th>\n",
                            "    </tr>\n",
                            "  </thead>\n",
                            "  <tbody>\n",
                            "    <tr>\n",
                            "      <th>0</th>\n",
                            "      <td>Albania</td>\n",
                            "      <td>1975</td>\n",
                            "      <td>Emisiones (kilotoneladas metricas de dioxido d...</td>\n",
                            "      <td>4338.334</td>\n",
                            "    </tr>\n",
                            "    <tr>\n",
                            "      <th>1</th>\n",
                            "      <td>Albania</td>\n",
                            "      <td>1985</td>\n",
                            "      <td>Emisiones (kilotoneladas metricas de dioxido d...</td>\n",
                            "      <td>6929.926</td>\n",
                            "    </tr>\n",
                            "    <tr>\n",
                            "      <th>2</th>\n",
                            "      <td>Albania</td>\n",
                            "      <td>1995</td>\n",
                            "      <td>Emisiones (kilotoneladas metricas de dioxido d...</td>\n",
                            "      <td>1848.549</td>\n",
                            "    </tr>\n",
                            "    <tr>\n",
                            "      <th>3</th>\n",
                            "      <td>Albania</td>\n",
                            "      <td>2005</td>\n",
                            "      <td>Emisiones (kilotoneladas metricas de dioxido d...</td>\n",
                            "      <td>3825.184</td>\n",
                            "    </tr>\n",
                            "    <tr>\n",
                            "      <th>4</th>\n",
                            "      <td>Albania</td>\n",
                            "      <td>2010</td>\n",
                            "      <td>Emisiones (kilotoneladas metricas de dioxido d...</td>\n",
                            "      <td>3930.295</td>\n",
                            "    </tr>\n",
                            "    <tr>\n",
                            "      <th>...</th>\n",
                            "      <td>...</td>\n",
                            "      <td>...</td>\n",
                            "      <td>...</td>\n",
                            "      <td>...</td>\n",
                            "    </tr>\n",
                            "    <tr>\n",
                            "      <th>2127</th>\n",
                            "      <td>Zimbabwe</td>\n",
                            "      <td>2005</td>\n",
                            "      <td>Emisiones per capita (toneladas metricas de di...</td>\n",
                            "      <td>0.794</td>\n",
                            "    </tr>\n",
                            "    <tr>\n",
                            "      <th>2128</th>\n",
                            "      <td>Zimbabwe</td>\n",
                            "      <td>2010</td>\n",
                            "      <td>Emisiones per capita (toneladas metricas de di...</td>\n",
                            "      <td>0.672</td>\n",
                            "    </tr>\n",
                            "    <tr>\n",
                            "      <th>2129</th>\n",
                            "      <td>Zimbabwe</td>\n",
                            "      <td>2015</td>\n",
                            "      <td>Emisiones per capita (toneladas metricas de di...</td>\n",
                            "      <td>0.749</td>\n",
                            "    </tr>\n",
                            "    <tr>\n",
                            "      <th>2130</th>\n",
                            "      <td>Zimbabwe</td>\n",
                            "      <td>2016</td>\n",
                            "      <td>Emisiones per capita (toneladas metricas de di...</td>\n",
                            "      <td>0.642</td>\n",
                            "    </tr>\n",
                            "    <tr>\n",
                            "      <th>2131</th>\n",
                            "      <td>Zimbabwe</td>\n",
                            "      <td>2017</td>\n",
                            "      <td>Emisiones per capita (toneladas metricas de di...</td>\n",
                            "      <td>0.588</td>\n",
                            "    </tr>\n",
                            "  </tbody>\n",
                            "</table>\n",
                            "<p>2132 rows × 4 columns</p>\n",
                            "</div>"
                        ],
                        "text/plain": [
                            "       Country  Year                                               Type  \\\n",
                            "0      Albania  1975  Emisiones (kilotoneladas metricas de dioxido d...   \n",
                            "1      Albania  1985  Emisiones (kilotoneladas metricas de dioxido d...   \n",
                            "2      Albania  1995  Emisiones (kilotoneladas metricas de dioxido d...   \n",
                            "3      Albania  2005  Emisiones (kilotoneladas metricas de dioxido d...   \n",
                            "4      Albania  2010  Emisiones (kilotoneladas metricas de dioxido d...   \n",
                            "...        ...   ...                                                ...   \n",
                            "2127  Zimbabwe  2005  Emisiones per capita (toneladas metricas de di...   \n",
                            "2128  Zimbabwe  2010  Emisiones per capita (toneladas metricas de di...   \n",
                            "2129  Zimbabwe  2015  Emisiones per capita (toneladas metricas de di...   \n",
                            "2130  Zimbabwe  2016  Emisiones per capita (toneladas metricas de di...   \n",
                            "2131  Zimbabwe  2017  Emisiones per capita (toneladas metricas de di...   \n",
                            "\n",
                            "         Value  \n",
                            "0     4338.334  \n",
                            "1     6929.926  \n",
                            "2     1848.549  \n",
                            "3     3825.184  \n",
                            "4     3930.295  \n",
                            "...        ...  \n",
                            "2127     0.794  \n",
                            "2128     0.672  \n",
                            "2129     0.749  \n",
                            "2130     0.642  \n",
                            "2131     0.588  \n",
                            "\n",
                            "[2132 rows x 4 columns]"
                        ]
                    },
                    "execution_count": 23,
                    "metadata": {},
                    "output_type": "execute_result"
                }
            ],
            "source": [
                "#Importa el CSV como un DataFrame\n",
                "import pandas as pd\n",
                "\n",
                "df = pd.read_csv('Estimaciones_Emisiones_Dioxido_Carbono.csv')\n",
                "\n",
                "df = pd.read_csv('Estimaciones_Emisiones_Dioxido_Carbono.csv', encoding='utf-8')\n",
                "\n",
                "df\n",
                "\n",
                "\n"
            ]
        },
        {
            "cell_type": "markdown",
            "metadata": {
                "azdata_cell_guid": "32151a06-fbc4-4fc0-9810-bdd34abdb6fd",
                "id": "352UFM-aEWCT"
            },
            "source": [
                "# Pregunta 0\n",
                "\n",
                "1. Crear un dataframe con el nombre de variable 'df_emisions_co2' usando únicamente las filas cuya columna 'Type' tiene el valor 'Emisiones totales de CO₂ emitidas por el país'\n",
                "\n",
                "2. Crear un dataframe con el nombre de variable 'df_emisions_co2_per_capita' usando únicamente las filas cuya columna 'Type' tiene el valor 'Emisiones promedio de CO₂ emitidas por habitante'."
            ]
        },
        {
            "cell_type": "code",
            "execution_count": 24,
            "metadata": {},
            "outputs": [
                {
                    "data": {
                        "text/html": [
                            "<div>\n",
                            "<style scoped>\n",
                            "    .dataframe tbody tr th:only-of-type {\n",
                            "        vertical-align: middle;\n",
                            "    }\n",
                            "\n",
                            "    .dataframe tbody tr th {\n",
                            "        vertical-align: top;\n",
                            "    }\n",
                            "\n",
                            "    .dataframe thead th {\n",
                            "        text-align: right;\n",
                            "    }\n",
                            "</style>\n",
                            "<table border=\"1\" class=\"dataframe\">\n",
                            "  <thead>\n",
                            "    <tr style=\"text-align: right;\">\n",
                            "      <th></th>\n",
                            "      <th>Country</th>\n",
                            "      <th>Year</th>\n",
                            "      <th>Type</th>\n",
                            "      <th>Value</th>\n",
                            "    </tr>\n",
                            "  </thead>\n",
                            "  <tbody>\n",
                            "    <tr>\n",
                            "      <th>0</th>\n",
                            "      <td>Albania</td>\n",
                            "      <td>1975</td>\n",
                            "      <td>Emisiones (kilotoneladas metricas de dioxido d...</td>\n",
                            "      <td>4338.334</td>\n",
                            "    </tr>\n",
                            "    <tr>\n",
                            "      <th>1</th>\n",
                            "      <td>Albania</td>\n",
                            "      <td>1985</td>\n",
                            "      <td>Emisiones (kilotoneladas metricas de dioxido d...</td>\n",
                            "      <td>6929.926</td>\n",
                            "    </tr>\n",
                            "    <tr>\n",
                            "      <th>2</th>\n",
                            "      <td>Albania</td>\n",
                            "      <td>1995</td>\n",
                            "      <td>Emisiones (kilotoneladas metricas de dioxido d...</td>\n",
                            "      <td>1848.549</td>\n",
                            "    </tr>\n",
                            "    <tr>\n",
                            "      <th>3</th>\n",
                            "      <td>Albania</td>\n",
                            "      <td>2005</td>\n",
                            "      <td>Emisiones (kilotoneladas metricas de dioxido d...</td>\n",
                            "      <td>3825.184</td>\n",
                            "    </tr>\n",
                            "    <tr>\n",
                            "      <th>4</th>\n",
                            "      <td>Albania</td>\n",
                            "      <td>2010</td>\n",
                            "      <td>Emisiones (kilotoneladas metricas de dioxido d...</td>\n",
                            "      <td>3930.295</td>\n",
                            "    </tr>\n",
                            "    <tr>\n",
                            "      <th>...</th>\n",
                            "      <td>...</td>\n",
                            "      <td>...</td>\n",
                            "      <td>...</td>\n",
                            "      <td>...</td>\n",
                            "    </tr>\n",
                            "    <tr>\n",
                            "      <th>2119</th>\n",
                            "      <td>Zimbabwe</td>\n",
                            "      <td>2005</td>\n",
                            "      <td>Emisiones (kilotoneladas metricas de dioxido d...</td>\n",
                            "      <td>10272.774</td>\n",
                            "    </tr>\n",
                            "    <tr>\n",
                            "      <th>2120</th>\n",
                            "      <td>Zimbabwe</td>\n",
                            "      <td>2010</td>\n",
                            "      <td>Emisiones (kilotoneladas metricas de dioxido d...</td>\n",
                            "      <td>9464.714</td>\n",
                            "    </tr>\n",
                            "    <tr>\n",
                            "      <th>2121</th>\n",
                            "      <td>Zimbabwe</td>\n",
                            "      <td>2015</td>\n",
                            "      <td>Emisiones (kilotoneladas metricas de dioxido d...</td>\n",
                            "      <td>11822.362</td>\n",
                            "    </tr>\n",
                            "    <tr>\n",
                            "      <th>2122</th>\n",
                            "      <td>Zimbabwe</td>\n",
                            "      <td>2016</td>\n",
                            "      <td>Emisiones (kilotoneladas metricas de dioxido d...</td>\n",
                            "      <td>10368.900</td>\n",
                            "    </tr>\n",
                            "    <tr>\n",
                            "      <th>2123</th>\n",
                            "      <td>Zimbabwe</td>\n",
                            "      <td>2017</td>\n",
                            "      <td>Emisiones (kilotoneladas metricas de dioxido d...</td>\n",
                            "      <td>9714.938</td>\n",
                            "    </tr>\n",
                            "  </tbody>\n",
                            "</table>\n",
                            "<p>1066 rows × 4 columns</p>\n",
                            "</div>"
                        ],
                        "text/plain": [
                            "       Country  Year                                               Type  \\\n",
                            "0      Albania  1975  Emisiones (kilotoneladas metricas de dioxido d...   \n",
                            "1      Albania  1985  Emisiones (kilotoneladas metricas de dioxido d...   \n",
                            "2      Albania  1995  Emisiones (kilotoneladas metricas de dioxido d...   \n",
                            "3      Albania  2005  Emisiones (kilotoneladas metricas de dioxido d...   \n",
                            "4      Albania  2010  Emisiones (kilotoneladas metricas de dioxido d...   \n",
                            "...        ...   ...                                                ...   \n",
                            "2119  Zimbabwe  2005  Emisiones (kilotoneladas metricas de dioxido d...   \n",
                            "2120  Zimbabwe  2010  Emisiones (kilotoneladas metricas de dioxido d...   \n",
                            "2121  Zimbabwe  2015  Emisiones (kilotoneladas metricas de dioxido d...   \n",
                            "2122  Zimbabwe  2016  Emisiones (kilotoneladas metricas de dioxido d...   \n",
                            "2123  Zimbabwe  2017  Emisiones (kilotoneladas metricas de dioxido d...   \n",
                            "\n",
                            "          Value  \n",
                            "0      4338.334  \n",
                            "1      6929.926  \n",
                            "2      1848.549  \n",
                            "3      3825.184  \n",
                            "4      3930.295  \n",
                            "...         ...  \n",
                            "2119  10272.774  \n",
                            "2120   9464.714  \n",
                            "2121  11822.362  \n",
                            "2122  10368.900  \n",
                            "2123   9714.938  \n",
                            "\n",
                            "[1066 rows x 4 columns]"
                        ]
                    },
                    "execution_count": 24,
                    "metadata": {},
                    "output_type": "execute_result"
                }
            ],
            "source": [
                "#Crea un copia del original filtrado como df_emisions_co2\n",
                "\n",
                "df_emisiones_co2 = df[df['Type'] == 'Emisiones (kilotoneladas metricas de dioxido de carbono)']\n",
                "\n",
                "#print(df_emisiones_co2.head())\n",
                "\n",
                "df_emisiones_co2"
            ]
        },
        {
            "cell_type": "code",
            "execution_count": 25,
            "metadata": {},
            "outputs": [
                {
                    "data": {
                        "text/html": [
                            "<div>\n",
                            "<style scoped>\n",
                            "    .dataframe tbody tr th:only-of-type {\n",
                            "        vertical-align: middle;\n",
                            "    }\n",
                            "\n",
                            "    .dataframe tbody tr th {\n",
                            "        vertical-align: top;\n",
                            "    }\n",
                            "\n",
                            "    .dataframe thead th {\n",
                            "        text-align: right;\n",
                            "    }\n",
                            "</style>\n",
                            "<table border=\"1\" class=\"dataframe\">\n",
                            "  <thead>\n",
                            "    <tr style=\"text-align: right;\">\n",
                            "      <th></th>\n",
                            "      <th>Country</th>\n",
                            "      <th>Year</th>\n",
                            "      <th>Type</th>\n",
                            "      <th>Value</th>\n",
                            "    </tr>\n",
                            "  </thead>\n",
                            "  <tbody>\n",
                            "    <tr>\n",
                            "      <th>8</th>\n",
                            "      <td>Albania</td>\n",
                            "      <td>1975</td>\n",
                            "      <td>Emisiones per capita (toneladas metricas de di...</td>\n",
                            "      <td>1.804</td>\n",
                            "    </tr>\n",
                            "    <tr>\n",
                            "      <th>9</th>\n",
                            "      <td>Albania</td>\n",
                            "      <td>1985</td>\n",
                            "      <td>Emisiones per capita (toneladas metricas de di...</td>\n",
                            "      <td>2.337</td>\n",
                            "    </tr>\n",
                            "    <tr>\n",
                            "      <th>10</th>\n",
                            "      <td>Albania</td>\n",
                            "      <td>1995</td>\n",
                            "      <td>Emisiones per capita (toneladas metricas de di...</td>\n",
                            "      <td>0.580</td>\n",
                            "    </tr>\n",
                            "    <tr>\n",
                            "      <th>11</th>\n",
                            "      <td>Albania</td>\n",
                            "      <td>2005</td>\n",
                            "      <td>Emisiones per capita (toneladas metricas de di...</td>\n",
                            "      <td>1.270</td>\n",
                            "    </tr>\n",
                            "    <tr>\n",
                            "      <th>12</th>\n",
                            "      <td>Albania</td>\n",
                            "      <td>2010</td>\n",
                            "      <td>Emisiones per capita (toneladas metricas de di...</td>\n",
                            "      <td>1.349</td>\n",
                            "    </tr>\n",
                            "    <tr>\n",
                            "      <th>...</th>\n",
                            "      <td>...</td>\n",
                            "      <td>...</td>\n",
                            "      <td>...</td>\n",
                            "      <td>...</td>\n",
                            "    </tr>\n",
                            "    <tr>\n",
                            "      <th>2127</th>\n",
                            "      <td>Zimbabwe</td>\n",
                            "      <td>2005</td>\n",
                            "      <td>Emisiones per capita (toneladas metricas de di...</td>\n",
                            "      <td>0.794</td>\n",
                            "    </tr>\n",
                            "    <tr>\n",
                            "      <th>2128</th>\n",
                            "      <td>Zimbabwe</td>\n",
                            "      <td>2010</td>\n",
                            "      <td>Emisiones per capita (toneladas metricas de di...</td>\n",
                            "      <td>0.672</td>\n",
                            "    </tr>\n",
                            "    <tr>\n",
                            "      <th>2129</th>\n",
                            "      <td>Zimbabwe</td>\n",
                            "      <td>2015</td>\n",
                            "      <td>Emisiones per capita (toneladas metricas de di...</td>\n",
                            "      <td>0.749</td>\n",
                            "    </tr>\n",
                            "    <tr>\n",
                            "      <th>2130</th>\n",
                            "      <td>Zimbabwe</td>\n",
                            "      <td>2016</td>\n",
                            "      <td>Emisiones per capita (toneladas metricas de di...</td>\n",
                            "      <td>0.642</td>\n",
                            "    </tr>\n",
                            "    <tr>\n",
                            "      <th>2131</th>\n",
                            "      <td>Zimbabwe</td>\n",
                            "      <td>2017</td>\n",
                            "      <td>Emisiones per capita (toneladas metricas de di...</td>\n",
                            "      <td>0.588</td>\n",
                            "    </tr>\n",
                            "  </tbody>\n",
                            "</table>\n",
                            "<p>1066 rows × 4 columns</p>\n",
                            "</div>"
                        ],
                        "text/plain": [
                            "       Country  Year                                               Type  Value\n",
                            "8      Albania  1975  Emisiones per capita (toneladas metricas de di...  1.804\n",
                            "9      Albania  1985  Emisiones per capita (toneladas metricas de di...  2.337\n",
                            "10     Albania  1995  Emisiones per capita (toneladas metricas de di...  0.580\n",
                            "11     Albania  2005  Emisiones per capita (toneladas metricas de di...  1.270\n",
                            "12     Albania  2010  Emisiones per capita (toneladas metricas de di...  1.349\n",
                            "...        ...   ...                                                ...    ...\n",
                            "2127  Zimbabwe  2005  Emisiones per capita (toneladas metricas de di...  0.794\n",
                            "2128  Zimbabwe  2010  Emisiones per capita (toneladas metricas de di...  0.672\n",
                            "2129  Zimbabwe  2015  Emisiones per capita (toneladas metricas de di...  0.749\n",
                            "2130  Zimbabwe  2016  Emisiones per capita (toneladas metricas de di...  0.642\n",
                            "2131  Zimbabwe  2017  Emisiones per capita (toneladas metricas de di...  0.588\n",
                            "\n",
                            "[1066 rows x 4 columns]"
                        ]
                    },
                    "execution_count": 25,
                    "metadata": {},
                    "output_type": "execute_result"
                }
            ],
            "source": [
                "#Crea un copia del original filtrado como df_emisions_co2_per_capita\n",
                "\n",
                "df_emisiones_co2_per_capita = df[df['Type'] == 'Emisiones per capita (toneladas metricas de dioxido de carbono)']\n",
                "\n",
                "#print(df_emisiones_co2_per_capita.head())\n",
                "\n",
                "df_emisiones_co2_per_capita"
            ]
        },
        {
            "cell_type": "markdown",
            "metadata": {
                "azdata_cell_guid": "66dbee89-6a74-42d6-b532-a95779ccc82a",
                "id": "d6bd6661"
            },
            "source": [
                "# Pregunta 1"
            ]
        },
        {
            "cell_type": "markdown",
            "metadata": {
                "azdata_cell_guid": "b30cf472-64d8-453a-b581-4d01915e9a38",
                "id": "3299b6b5"
            },
            "source": [
                "Cuántas filas tiene el dataframe 'df_emisions_co2'?"
            ]
        },
        {
            "cell_type": "code",
            "execution_count": 12,
            "metadata": {
                "azdata_cell_guid": "63fba01e-a296-4e37-badf-df51ee463964",
                "id": "f02d60cc",
                "language": "python"
            },
            "outputs": [
                {
                    "name": "stdout",
                    "output_type": "stream",
                    "text": [
                        "El dataframe df_emisiones_co2 tiene 1066 filas\n"
                    ]
                }
            ],
            "source": [
                "# Coloque el código que responda a la pregunta aqui\n",
                "\n",
                "cant_filas = len(df_emisiones_co2)\n",
                "\n",
                "print(f'El dataframe df_emisiones_co2 tiene {cant_filas} filas')"
            ]
        },
        {
            "cell_type": "markdown",
            "metadata": {
                "azdata_cell_guid": "5f8f7bed-99e7-4c3b-b621-d430915552a9",
                "id": "880f891d"
            },
            "source": [
                "# Pregunta 2"
            ]
        },
        {
            "cell_type": "markdown",
            "metadata": {
                "azdata_cell_guid": "3025751b-734d-491a-a0f2-e454076155fa",
                "id": "34700c9d"
            },
            "source": [
                "Cuál en el valor más alto de emisiones (en general) usando el dataframe 'df_emisions_co2'?"
            ]
        },
        {
            "cell_type": "code",
            "execution_count": 13,
            "metadata": {
                "azdata_cell_guid": "675d06d0-c52d-4848-8c84-b3503476d7e3",
                "id": "24bdf93a",
                "language": "python"
            },
            "outputs": [
                {
                    "name": "stdout",
                    "output_type": "stream",
                    "text": [
                        "El valor mas alto de emisiones presentada fue de: 9257933.9\n"
                    ]
                }
            ],
            "source": [
                "# Coloque el código que responda a la pregunta aqui exactamente lo que se pregunta\n",
                "\n",
                "emision_co2_mas_alta = df_emisiones_co2['Value'].max()\n",
                "\n",
                "print(f'El valor mas alto de emisiones presentada fue de: {emision_co2_mas_alta}')"
            ]
        },
        {
            "cell_type": "markdown",
            "metadata": {
                "azdata_cell_guid": "97637f7a-fb3b-4b24-a6e8-769427d8c984",
                "id": "7ebd3621"
            },
            "source": [
                "# Pregunta 3"
            ]
        },
        {
            "cell_type": "markdown",
            "metadata": {
                "azdata_cell_guid": "4f9d7b44-d0e8-4705-8fa0-9a84d56774cf",
                "id": "eb81f1c8"
            },
            "source": [
                "Cuántos países (Countries) hay en el dataframe 'df_emisions_co2'?"
            ]
        },
        {
            "cell_type": "code",
            "execution_count": 18,
            "metadata": {
                "azdata_cell_guid": "207fdf39-e7dd-4ac4-b3f4-a129a75f2a6d",
                "id": "4f60454b",
                "language": "python"
            },
            "outputs": [
                {
                    "name": "stdout",
                    "output_type": "stream",
                    "text": [
                        "La cantidad de paises con emision de co2 es de: 142\n"
                    ]
                }
            ],
            "source": [
                "# Coloque el código que responda a la pregunta aqui exactamente lo que se pregunta\n",
                "\n",
                "cantidad_paises_emisionesco2 = df_emisiones_co2['Country'].nunique()\n",
                "\n",
                "print(f'La cantidad de paises con emision de co2 es de: {cantidad_paises_emisionesco2}')"
            ]
        },
        {
            "cell_type": "code",
            "execution_count": 21,
            "metadata": {
                "azdata_cell_guid": "52f1ec4f-654f-43c8-a541-2fe225b3a476",
                "id": "2f46faa0",
                "language": "python"
            },
            "outputs": [
                {
                    "name": "stdout",
                    "output_type": "stream",
                    "text": [
                        "Los paises con emision CO2 son:\n",
                        " ['Albania' 'Algeria' 'Angola' 'Argentina' 'Armenia' 'Australia' 'Austria'\n",
                        " 'Azerbaijan' 'Bahrain' 'Bangladesh' 'Belarus' 'Belgium' 'Benin'\n",
                        " 'Bolivia (Plurin. State of)' 'Bosnia and Herzegovina' 'Botswana' 'Brazil'\n",
                        " 'Brunei Darussalam' 'Bulgaria' 'Cambodia' 'Cameroon' 'Canada' 'Chile'\n",
                        " 'China' 'China Hong Kong SAR' 'Colombia' 'Congo' 'Costa Rica'\n",
                        " 'Côte d’Ivoire' 'Croatia' 'Cuba' 'Curaçao' 'Cyprus' 'Czechia'\n",
                        " \"Dem. People's Rep. Korea\" 'Dem. Rep. of the Congo' 'Denmark'\n",
                        " 'Dominican Republic' 'Ecuador' 'Egypt' 'El Salvador' 'Eritrea' 'Estonia'\n",
                        " 'Ethiopia' 'Finland' 'France' 'Gabon' 'Georgia' 'Germany' 'Ghana'\n",
                        " 'Gibraltar' 'Greece' 'Guatemala' 'Haiti' 'Honduras' 'Hungary' 'Iceland'\n",
                        " 'India' 'Indonesia' 'Iran (Islamic Republic of)' 'Iraq' 'Ireland'\n",
                        " 'Israel' 'Italy' 'Jamaica' 'Japan' 'Jordan' 'Kazakhstan' 'Kenya' 'Kosovo'\n",
                        " 'Kuwait' 'Kyrgyzstan' 'Latvia' 'Lebanon' 'Libya' 'Lithuania' 'Luxembourg'\n",
                        " 'Malaysia' 'Malta' 'Mauritius' 'Mexico' 'Mongolia' 'Montenegro' 'Morocco'\n",
                        " 'Mozambique' 'Myanmar' 'Namibia' 'Nepal' 'Netherlands' 'New Zealand'\n",
                        " 'Nicaragua' 'Niger' 'Nigeria' 'Norway' 'Oman' 'Pakistan' 'Panama'\n",
                        " 'Paraguay' 'Peru' 'Philippines' 'Poland' 'Portugal' 'Qatar'\n",
                        " 'Republic of Korea' 'Republic of Moldova' 'Romania' 'Russian Federation'\n",
                        " 'Saudi Arabia' 'Senegal' 'Serbia' 'Singapore' 'Slovakia' 'Slovenia'\n",
                        " 'South Africa' 'South Sudan' 'Spain' 'Sri Lanka' 'Sudan' 'Suriname'\n",
                        " 'Sweden' 'Switzerland' 'Syrian Arab Republic' 'Tajikistan' 'Thailand'\n",
                        " 'North Macedonia' 'Togo' 'Trinidad and Tobago' 'Tunisia' 'Turkey'\n",
                        " 'Turkmenistan' 'Ukraine' 'United Arab Emirates' 'United Kingdom'\n",
                        " 'United Rep. of Tanzania' 'United States of America' 'Uruguay'\n",
                        " 'Uzbekistan' 'Venezuela (Boliv. Rep. of)' 'Viet Nam' 'Yemen' 'Zambia'\n",
                        " 'Zimbabwe']\n"
                    ]
                }
            ],
            "source": [
                "#Imprima un lista con todos los paises\n",
                "\n",
                "paises_emisionco2 = df_emisiones_co2['Country'].unique()\n",
                "\n",
                "print(f'Los paises con emision CO2 son:\\n {paises_emisionco2}')"
            ]
        },
        {
            "cell_type": "markdown",
            "metadata": {
                "azdata_cell_guid": "30e5c2d6-95aa-4bda-ad89-2b581a214d82",
                "id": "1e40352a"
            },
            "source": [
                "# Pregunta 4"
            ]
        },
        {
            "cell_type": "markdown",
            "metadata": {
                "azdata_cell_guid": "d4c1a6a0-d184-4feb-9c6e-a934c52d0343",
                "id": "80c46908"
            },
            "source": [
                "Cuál es el país que tiene mayor emisiones usando el dataframe 'df_emisions_co2'?"
            ]
        },
        {
            "cell_type": "code",
            "execution_count": 38,
            "metadata": {},
            "outputs": [
                {
                    "data": {
                        "text/html": [
                            "<div>\n",
                            "<style scoped>\n",
                            "    .dataframe tbody tr th:only-of-type {\n",
                            "        vertical-align: middle;\n",
                            "    }\n",
                            "\n",
                            "    .dataframe tbody tr th {\n",
                            "        vertical-align: top;\n",
                            "    }\n",
                            "\n",
                            "    .dataframe thead th {\n",
                            "        text-align: right;\n",
                            "    }\n",
                            "</style>\n",
                            "<table border=\"1\" class=\"dataframe\">\n",
                            "  <thead>\n",
                            "    <tr style=\"text-align: right;\">\n",
                            "      <th></th>\n",
                            "      <th>Country</th>\n",
                            "      <th>Value</th>\n",
                            "    </tr>\n",
                            "  </thead>\n",
                            "  <tbody>\n",
                            "    <tr>\n",
                            "      <th>0</th>\n",
                            "      <td>Albania</td>\n",
                            "      <td>32713.283</td>\n",
                            "    </tr>\n",
                            "    <tr>\n",
                            "      <th>1</th>\n",
                            "      <td>Algeria</td>\n",
                            "      <td>672532.800</td>\n",
                            "    </tr>\n",
                            "    <tr>\n",
                            "      <th>2</th>\n",
                            "      <td>Angola</td>\n",
                            "      <td>90997.441</td>\n",
                            "    </tr>\n",
                            "    <tr>\n",
                            "      <th>3</th>\n",
                            "      <td>Argentina</td>\n",
                            "      <td>1177855.694</td>\n",
                            "    </tr>\n",
                            "    <tr>\n",
                            "      <th>4</th>\n",
                            "      <td>Armenia</td>\n",
                            "      <td>26246.919</td>\n",
                            "    </tr>\n",
                            "    <tr>\n",
                            "      <th>...</th>\n",
                            "      <td>...</td>\n",
                            "      <td>...</td>\n",
                            "    </tr>\n",
                            "    <tr>\n",
                            "      <th>137</th>\n",
                            "      <td>Venezuela (Boliv. Rep. of)</td>\n",
                            "      <td>938100.734</td>\n",
                            "    </tr>\n",
                            "    <tr>\n",
                            "      <th>138</th>\n",
                            "      <td>Viet Nam</td>\n",
                            "      <td>835184.368</td>\n",
                            "    </tr>\n",
                            "    <tr>\n",
                            "      <th>139</th>\n",
                            "      <td>Yemen</td>\n",
                            "      <td>87242.607</td>\n",
                            "    </tr>\n",
                            "    <tr>\n",
                            "      <th>140</th>\n",
                            "      <td>Zambia</td>\n",
                            "      <td>25998.321</td>\n",
                            "    </tr>\n",
                            "    <tr>\n",
                            "      <th>141</th>\n",
                            "      <td>Zimbabwe</td>\n",
                            "      <td>83632.160</td>\n",
                            "    </tr>\n",
                            "  </tbody>\n",
                            "</table>\n",
                            "<p>142 rows × 2 columns</p>\n",
                            "</div>"
                        ],
                        "text/plain": [
                            "                        Country        Value\n",
                            "0                       Albania    32713.283\n",
                            "1                       Algeria   672532.800\n",
                            "2                        Angola    90997.441\n",
                            "3                     Argentina  1177855.694\n",
                            "4                       Armenia    26246.919\n",
                            "..                          ...          ...\n",
                            "137  Venezuela (Boliv. Rep. of)   938100.734\n",
                            "138                    Viet Nam   835184.368\n",
                            "139                       Yemen    87242.607\n",
                            "140                      Zambia    25998.321\n",
                            "141                    Zimbabwe    83632.160\n",
                            "\n",
                            "[142 rows x 2 columns]"
                        ]
                    },
                    "execution_count": 38,
                    "metadata": {},
                    "output_type": "execute_result"
                }
            ],
            "source": [
                "#Para realizar este ejercicio primero voy a agrupar para brindar la informacion exacta.\n",
                "\n",
                "#Primero vpy a grupar  los paises y sumar la columna Value para obtener solo un resultado por pais.\n",
                "\n",
                "df_emisionesco2_group = df_emisiones_co2.groupby('Country')[\"Value\"].sum().reset_index() #utilice reset index para que me muestre un tabla ordenada o mas bonita.\n",
                "df_emisionesco2_group\n"
            ]
        },
        {
            "cell_type": "code",
            "execution_count": 42,
            "metadata": {
                "azdata_cell_guid": "ee5ff21c-8288-42a9-9212-4d88ff639e85",
                "id": "e6df7d42",
                "language": "python"
            },
            "outputs": [
                {
                    "name": "stdout",
                    "output_type": "stream",
                    "text": [
                        "El país con mayores emisiones es: China\n"
                    ]
                }
            ],
            "source": [
                "# Coloque el código que responda a la pregunta aqui exactamente lo que se pregunta\n",
                "\n",
                "pais_mayor_emisionco2 = df_emisionesco2_group.loc[df_emisionesco2_group['Value'].idxmax(), 'Country']\n",
                "\n",
                "print(f\"El país con mayores emisiones es: {pais_mayor_emisionco2}\")\n",
                "\n"
            ]
        },
        {
            "cell_type": "markdown",
            "metadata": {
                "azdata_cell_guid": "da6c194b-ecdd-42b0-82ca-210d6b74f57f",
                "id": "26c97fde"
            },
            "source": [
                "# Pregunta 5"
            ]
        },
        {
            "cell_type": "markdown",
            "metadata": {
                "azdata_cell_guid": "a5cf8867-358a-40cb-9933-027dd8e06aa3",
                "id": "541f44ca"
            },
            "source": [
                "Cuál es el año que tiene mayor emisiones para el país de Spain usando el dataframe 'df_emisions_co2'?"
            ]
        },
        {
            "cell_type": "code",
            "execution_count": 46,
            "metadata": {
                "azdata_cell_guid": "10e7e0fe-162a-4b2a-a01e-db2bd04b6865",
                "id": "c32f62d1",
                "language": "python"
            },
            "outputs": [
                {
                    "name": "stdout",
                    "output_type": "stream",
                    "text": [
                        "El año con más emisiones en España fue: 2005 con un total de 333710.098\n"
                    ]
                }
            ],
            "source": [
                "# Coloque el código que responda a la pregunta aqui exactamente lo que se pregunta\n",
                "\n",
                "# Filtrar solo por el país 'Spain'\n",
                "df_spain = df_emisiones_co2[df_emisiones_co2['Country'] == 'Spain']\n",
                "\n",
                "# Buscar el año con más emisiones\n",
                "año_max_emision_spain = df_spain.loc[df_spain['Value'].idxmax(), 'Year']\n",
                "valor_max_emision = df_spain['Value'].max()\n",
                "\n",
                "print(f'El año con más emisiones en España fue: {año_max_emision_spain} con un total de {valor_max_emision}')\n",
                "\n"
            ]
        },
        {
            "cell_type": "markdown",
            "metadata": {
                "azdata_cell_guid": "78a2c35d-5ca9-4cc2-9890-05b367218238",
                "id": "55ce4564"
            },
            "source": [
                "# Pregunta 6"
            ]
        },
        {
            "cell_type": "markdown",
            "metadata": {
                "azdata_cell_guid": "048ff587-0368-4c8c-930d-678786aa18c3",
                "id": "3473e4f2"
            },
            "source": [
                "Cuáles son los años que se tiene registros para el dataframe 'df_emisions_co2_per_capita'?\n",
                "\n",
                "Entrege una lista con los años sin repetirse"
            ]
        },
        {
            "cell_type": "code",
            "execution_count": 50,
            "metadata": {
                "azdata_cell_guid": "75d9cbc6-d254-49d4-8cfc-7b0f74456608",
                "id": "5ad50924",
                "language": "python"
            },
            "outputs": [
                {
                    "name": "stdout",
                    "output_type": "stream",
                    "text": [
                        "La cantidad de paises con emision de co2 por capita es de: 142\n"
                    ]
                }
            ],
            "source": [
                "# Coloque el código que responda a la pregunta aqui exactamente lo que se pregunta\n",
                "\n",
                "cantidad_paises_emisionesco2_Capita = df_emisiones_co2_per_capita['Country'].nunique()\n",
                "\n",
                "print(f'La cantidad de paises con emision de co2 por capita es de: {cantidad_paises_emisionesco2_Capita}')"
            ]
        },
        {
            "cell_type": "markdown",
            "metadata": {
                "azdata_cell_guid": "8cee75a7-4fcc-47eb-883a-641aa900bc51",
                "id": "18fa522e"
            },
            "source": [
                "# Pregunta 7"
            ]
        },
        {
            "cell_type": "markdown",
            "metadata": {
                "azdata_cell_guid": "8532f291-3bd2-4da4-9eb3-7ac69e49b4a5",
                "id": "2747ce42"
            },
            "source": [
                "Cuántas son las emisiones en 'kilotoneladas métricas' en total usando todos los países para usando el dataframe 'df_emisions_co2'?\n"
            ]
        },
        {
            "cell_type": "code",
            "execution_count": 51,
            "metadata": {
                "azdata_cell_guid": "3b4710af-d857-49ce-9b19-931839541d39",
                "id": "e8cbd117",
                "language": "python"
            },
            "outputs": [
                {
                    "name": "stdout",
                    "output_type": "stream",
                    "text": [
                        "Las emisiones totales de CO2 de todos los paises en general es de: 195028250.41599998 kilotoneladas metricas\n"
                    ]
                }
            ],
            "source": [
                "# Coloque el código que responda a la pregunta aqui exactamente lo que se pregunta\n",
                "\n",
                "total_emisiones_CO2 = df_emisiones_co2['Value'].sum()\n",
                "\n",
                "print(f'Las emisiones totales de CO2 de todos los paises en general es de: {total_emisiones_CO2} kilotoneladas metricas')"
            ]
        },
        {
            "cell_type": "markdown",
            "metadata": {
                "azdata_cell_guid": "ddfe093b-e52f-4379-8062-efedfbddb684",
                "id": "42aa86db"
            },
            "source": [
                "# Pregunta 8"
            ]
        },
        {
            "cell_type": "markdown",
            "metadata": {
                "azdata_cell_guid": "ce742599-a5c4-41c7-87f1-7a881676c09f",
                "id": "a303974d"
            },
            "source": [
                "Cuántas son las emisiones en 'kilotoneladas métricas' sólo para Albania usando el dataframe 'df_emisions_co2'?\n"
            ]
        },
        {
            "cell_type": "code",
            "execution_count": 53,
            "metadata": {
                "azdata_cell_guid": "86c46d24-2812-47a3-aa64-fd2d6981cf9a",
                "id": "181ab815",
                "language": "python"
            },
            "outputs": [
                {
                    "name": "stdout",
                    "output_type": "stream",
                    "text": [
                        "Las emisiones totales durante todos los años presentados en Albania es de: 32713.283000000003 kilotoneladas metricas\n"
                    ]
                }
            ],
            "source": [
                "# Coloque el código que responda a la pregunta aqui exactamente lo que se pregunta\n",
                "\n",
                "df_albania = df_emisiones_co2[df_emisiones_co2['Country'] == 'Albania']\n",
                "\n",
                "valor_total_emision_albania = df_albania['Value'].sum()\n",
                "\n",
                "print(f'Las emisiones totales durante todos los años presentados en Albania es de: {valor_total_emision_albania} kilotoneladas metricas')"
            ]
        },
        {
            "cell_type": "markdown",
            "metadata": {
                "azdata_cell_guid": "5d5b3bfb-2643-45d0-ba92-b53affb67c17",
                "id": "d084c9f3"
            },
            "source": [
                "# Pregunta 9"
            ]
        },
        {
            "cell_type": "markdown",
            "metadata": {
                "azdata_cell_guid": "acd10e28-cde4-48c3-bba9-eee6323b06cc",
                "id": "ae9cebff"
            },
            "source": [
                "Cuántas son las emisiones totales en 'libras' sólo para Costa Rica usando el dataframe 'df_emisions_co2'?\n"
            ]
        },
        {
            "cell_type": "code",
            "execution_count": 54,
            "metadata": {
                "azdata_cell_guid": "8c372164-c8f6-4e72-9fd3-2b7c1eaf0499",
                "id": "ee97d492",
                "language": "python"
            },
            "outputs": [
                {
                    "name": "stdout",
                    "output_type": "stream",
                    "text": [
                        "Las emisiones totales de CO2 para Costa Rica es de 429963181432.1218 libras\n"
                    ]
                }
            ],
            "source": [
                "# Coloque el código que responda a la pregunta aqui exactamente lo que se pregunta\n",
                "\n",
                "emisiones_totales_costarica = df_emisiones_co2['Value'].sum()\n",
                "libras = emisiones_totales_costarica * 2204.62 # 1kilotonelada equivale a 1000000 * 2204.62 por lo que la formula seria libras=kilotoneladas metricas * 2,204,62\n",
                "\n",
                "print(f'Las emisiones totales de CO2 para Costa Rica es de {libras} libras')"
            ]
        },
        {
            "cell_type": "markdown",
            "metadata": {
                "azdata_cell_guid": "e505d100-2c39-45a3-9c7d-70c1f83b268d",
                "id": "eb6dfc54"
            },
            "source": [
                "# Pregunta 10"
            ]
        },
        {
            "cell_type": "markdown",
            "metadata": {
                "azdata_cell_guid": "cfe25701-d219-459b-a108-75787ee1f8ae",
                "id": "5862817e"
            },
            "source": [
                "Para sólo 'Costa Rica' y suponiendo que las emisiones se estancan a partir del último año reportado (se mantiene igual). Cuántas son las emisiones en 'Kg' sólo para Costa Rica en el año desde el ultimo año hasta el 2025 usando el dataframe 'df_emisions_co2'?\n"
            ]
        },
        {
            "cell_type": "code",
            "execution_count": 55,
            "metadata": {
                "azdata_cell_guid": "c65ecf97-b679-4808-91cc-fe771ce12b6b",
                "id": "76ed009c",
                "language": "python"
            },
            "outputs": [
                {
                    "name": "stdout",
                    "output_type": "stream",
                    "text": [
                        "Desde el año 2017 hasta 2025, las emisiones proyectadas de Costa Rica son 68,259,699,000 kg de CO₂\n"
                    ]
                }
            ],
            "source": [
                "# Coloque el código que responda a la pregunta aqui exactamente lo que se pregunta\n",
                "'''\n",
                "Primero debo de realizar los siguientes pasos para obtener el resultado:\n",
                "1-Filtrar Costa Rica en df_emisiones_co2.\n",
                "2-Encontrar el último año reportado.\n",
                "3-Obtener las emisiones de ese año.\n",
                "4-Calcular los años faltantes hasta 2025.\n",
                "5-Multiplicar las emisiones anuales por esos años.\n",
                "6-Convertir de kilotoneladas métricas a kilogramos.\n",
                "'''\n",
                "#1\n",
                "df_costa_rica = df_emisiones_co2[df_emisiones_co2['Country'] == 'Costa Rica']\n",
                "\n",
                "#2\n",
                "ultimo_año = df_costa_rica['Year'].max()\n",
                "\n",
                "#3\n",
                "emisiones_ultimo_año_cr = df_costa_rica.loc[df_costa_rica['Year'] == ultimo_año, 'Value'].values[0] \n",
                "\n",
                "#4\n",
                "años_faltantes = 2025 - ultimo_año + 1\n",
                "\n",
                "#5\n",
                "emisiones_proyectadas_kt = emisiones_ultimo_año_cr * años_faltantes\n",
                "\n",
                "#6\n",
                "\n",
                "emisiones_proyectadas_kg = emisiones_proyectadas_kt * 1_000_000\n",
                "\n",
                "print(f'Desde el año {ultimo_año} hasta 2025, las emisiones proyectadas de Costa Rica son {emisiones_proyectadas_kg:,.0f} kg de CO₂')\n",
                "\n"
            ]
        },
        {
            "cell_type": "markdown",
            "metadata": {
                "azdata_cell_guid": "46cbe15c-fe3e-440c-8d83-8c8f73e4d5a7",
                "id": "1c18874b"
            },
            "source": [
                "# Pregunta 12"
            ]
        },
        {
            "cell_type": "markdown",
            "metadata": {
                "azdata_cell_guid": "14dc18b7-8bdb-41a5-a5eb-34da63fef812",
                "id": "6a487c43"
            },
            "source": [
                "Para sólo los países de Centroamérica ['El Salvador', 'Honduras', 'Guatemala', 'Costa Rica', 'Nicaragua'] obtener un reporte por año de las emisiones totales en Centroamérica usando el dataframe 'df_emisions_co2'?\n",
                "Se espera un dataframe de 2 columnas: 'Year' y 'total_por_año'"
            ]
        },
        {
            "cell_type": "code",
            "execution_count": 56,
            "metadata": {
                "azdata_cell_guid": "ba31d64d-a10b-4275-b19e-86f3e18984b6",
                "id": "1d0426bf",
                "language": "python"
            },
            "outputs": [
                {
                    "name": "stdout",
                    "output_type": "stream",
                    "text": [
                        "   Year  total_por_año\n",
                        "0  1975       9860.972\n",
                        "1  1985      10250.333\n",
                        "2  1995      20960.234\n",
                        "3  2005      33562.291\n",
                        "4  2010      34533.555\n",
                        "5  2015      43107.376\n",
                        "6  2016      44366.072\n",
                        "7  2017      43556.261\n"
                    ]
                }
            ],
            "source": [
                "# Coloque el código que responda a la pregunta aqui exactamente lo que se pregunta\n",
                "\n",
                "paises_centroamerica = ['El Salvador', 'Honduras', 'Guatemala', 'Costa Rica', 'Nicaragua']\n",
                "\n",
                "df_centroamerica = df_emisiones_co2[df_emisiones_co2['Country'].isin(paises_centroamerica)]\n",
                "\n",
                "df_reporte_paises_Centroamerica = df_centroamerica.groupby('Year')['Value'].sum().reset_index()\n",
                "\n",
                "df_reporte_paises_Centroamerica.rename(columns={'Value': 'total_por_año'}, inplace=True)\n",
                "\n",
                "print(df_reporte_paises_Centroamerica)\n"
            ]
        },
        {
            "cell_type": "markdown",
            "metadata": {
                "azdata_cell_guid": "77c94d71-c324-4495-88c1-90cb5953b117",
                "id": "8fdaae3d"
            },
            "source": [
                "# Pregunta 13"
            ]
        },
        {
            "cell_type": "markdown",
            "metadata": {
                "azdata_cell_guid": "e4379b6f-d518-49e9-ba6a-181999caae36",
                "id": "8a7e17ff"
            },
            "source": [
                "Para sólo los países de Centroamérica ['El Salvador', 'Honduras', 'Guatemala', 'Costa Rica', 'Nicaragua'] obtener un reporte por año de las emisiones en promedio en Centroamérica usando el dataframe 'df_emisions_co2_per_capita'?\n",
                "Se espera un dataframe de 2 columnas: 'Year' y 'promedio_por_año'"
            ]
        },
        {
            "cell_type": "code",
            "execution_count": 57,
            "metadata": {
                "azdata_cell_guid": "b8107b3d-4b45-45e3-9c3e-2e20c56ed7a9",
                "id": "4ec787f4",
                "language": "python"
            },
            "outputs": [
                {
                    "name": "stdout",
                    "output_type": "stream",
                    "text": [
                        "   Year  promedio_por_año\n",
                        "0  1975            0.5690\n",
                        "1  1985            0.4620\n",
                        "2  1995            0.7626\n",
                        "3  2005            0.9720\n",
                        "4  2010            0.9538\n",
                        "5  2015            1.0572\n",
                        "6  2016            1.0720\n",
                        "7  2017            1.0422\n"
                    ]
                }
            ],
            "source": [
                "# Coloque el código que responda a la pregunta aqui exactamente lo que se pregunta\n",
                "\n",
                "df_centroamerica_percapita = df_emisiones_co2_per_capita[df_emisiones_co2_per_capita['Country'].isin(paises_centroamerica)]\n",
                "\n",
                "df_promedio_centroamerica = df_centroamerica_percapita.groupby('Year')['Value'].mean().reset_index() #Utilizo el metodo mean para sacar el promedio mas rapido.\n",
                "\n",
                "df_promedio_centroamerica.rename(columns={'Value': 'promedio_por_año'}, inplace=True)\n",
                "\n",
                "print(df_promedio_centroamerica)"
            ]
        },
        {
            "cell_type": "markdown",
            "metadata": {
                "azdata_cell_guid": "0a62ff93-d68b-48da-b993-51cc40362107",
                "id": "944ac865"
            },
            "source": [
                "# Pregunta 14"
            ]
        },
        {
            "cell_type": "markdown",
            "metadata": {
                "azdata_cell_guid": "3f87f1b5-8bed-42ed-aba4-3b2244324e40",
                "id": "b961da55"
            },
            "source": [
                "Cuál es el promedio de las emisiones per capita para el año 2005 usando el dataframe 'df_emisions_co2_per_capita'?\n"
            ]
        },
        {
            "cell_type": "code",
            "execution_count": 58,
            "metadata": {
                "azdata_cell_guid": "fe76819d-d78b-4923-9982-967e36223207",
                "id": "e2f0a786",
                "language": "python"
            },
            "outputs": [
                {
                    "name": "stdout",
                    "output_type": "stream",
                    "text": [
                        "El promedio de las emisiones per capita para el año 2005 es de: 5.29775 toneladas metricas de CO2\n"
                    ]
                }
            ],
            "source": [
                "# Coloque el código que responda a la pregunta aqui exactamente lo que se pregunta\n",
                "\n",
                "df_año_2005 = df_emisiones_co2_per_capita[df_emisiones_co2_per_capita['Year'] == 2005]\n",
                "\n",
                "promedio_año_2005 = df_año_2005['Value'].mean()\n",
                "\n",
                "print(f'El promedio de las emisiones per capita para el año 2005 es de: {promedio_año_2005} toneladas metricas de CO2')"
            ]
        },
        {
            "cell_type": "markdown",
            "metadata": {},
            "source": [
                "# Pregunta 15\n",
                "\n",
                "Usa el dataframe  'df_emisions_co2_per_capita' con las columnas Year y promedio_por_año para crear una gráfica de líneas que muestre la evolución del promedio de emisiones per cápita en Centroamérica a lo largo del tiempo; el eje X debe ser el año y el eje Y el promedio de emisiones."
            ]
        },
        {
            "cell_type": "code",
            "execution_count": 59,
            "metadata": {},
            "outputs": [
                {
                    "data": {
                        "image/png": "[encoded data removed]",
                        "text/plain": [
                            "<Figure size 1000x600 with 1 Axes>"
                        ]
                    },
                    "metadata": {},
                    "output_type": "display_data"
                }
            ],
            "source": [
                "# Coloque el código que responda a la pregunta aqui exactamente lo que se pregunta\n",
                "\n",
                "import matplotlib.pyplot as plt\n",
                "\n",
                "# Aca creo la grafica de lineas\n",
                "plt.figure(figsize=(10, 6))\n",
                "plt.plot(df_promedio_centroamerica['Year'], df_promedio_centroamerica['promedio_por_año'], marker='o')\n",
                "\n",
                "# Títulos y etiquetas\n",
                "plt.title('Evolución del Promedio de Emisiones per Cápita en Centroamérica', fontsize=14)\n",
                "plt.xlabel('Año', fontsize=12)\n",
                "plt.ylabel('Promedio de Emisiones per Cápita (toneladas métricas)', fontsize=12)\n",
                "\n",
                "\n",
                "plt.grid(True) # Pone la cuadricula para observar mejor el grafico con sus valores\n",
                "plt.tight_layout() # para que no se me sobrepongan los elementos\n",
                "\n",
                "plt.show()\n",
                "\n",
                "\n",
                "\n"
            ]
        }
    ],
    "metadata": {
        "colab": {
            "provenance": []
        },
        "kernelspec": {
            "display_name": "Python 3",
            "language": "python",
            "name": "python3"
        },
        "language_info": {
            "codemirror_mode": {
                "name": "ipython",
                "version": 3
            },
            "file_extension": ".py",
            "mimetype": "text/x-python",
            "name": "python",
            "nbconvert_exporter": "python",
            "pygments_lexer": "ipython3",
            "version": "3.13.2"
        }
    },
    "nbformat": 4,
    "nbformat_minor": 2
}
